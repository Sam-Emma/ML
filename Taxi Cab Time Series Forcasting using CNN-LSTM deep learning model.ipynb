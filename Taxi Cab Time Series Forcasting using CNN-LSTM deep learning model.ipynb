{
  "nbformat": 4,
  "nbformat_minor": 0,
  "metadata": {
    "colab": {
      "name": "upworkbest.ipynb",
      "provenance": [],
      "collapsed_sections": []
    },
    "kernelspec": {
      "name": "python3",
      "display_name": "Python 3"
    },
    "language_info": {
      "name": "python"
    },
    "accelerator": "TPU"
  },
  "cells": [
    {
      "cell_type": "code",
      "metadata": {
        "id": "VrLRMB2g3PQy"
      },
      "source": [
        "import pandas as pd\n",
        "import numpy as np\n",
        "import numpy.random as nr\n",
        "import matplotlib.pyplot as plt\n",
        "import seaborn as sns\n",
        "from math import sin, cos, sqrt, atan2, radians\n",
        "import matplotlib.pyplot as plt\n",
        "import seaborn as sns\n",
        "from datetime import datetime\n",
        "import calendar\n",
        "from datetime import timedelta\n",
        "import datetime as dt\n",
        "import sklearn.model_selection as ms\n",
        "from keras.layers.convolutional import Convolution2D, Convolution3D\n",
        "from keras.models import Sequential\n",
        "from keras.layers import Dense\n",
        "\n",
        "import keras\n",
        "\n"
      ],
      "execution_count": 2,
      "outputs": []
    },
    {
      "cell_type": "code",
      "metadata": {
        "id": "ICaJGH2G5Fep"
      },
      "source": [
        "train = pd.read_csv('/content/drive/MyDrive/Dataset/train.csv')\n"
      ],
      "execution_count": 3,
      "outputs": []
    },
    {
      "cell_type": "code",
      "metadata": {
        "colab": {
          "base_uri": "https://localhost:8080/",
          "height": 609
        },
        "id": "FrpKh4Nm8hZM",
        "outputId": "268b7c62-c6f9-4290-aac9-a3fdf4e11ec5"
      },
      "source": [
        "train"
      ],
      "execution_count": 4,
      "outputs": [
        {
          "output_type": "execute_result",
          "data": {
            "text/html": [
              "<div>\n",
              "<style scoped>\n",
              "    .dataframe tbody tr th:only-of-type {\n",
              "        vertical-align: middle;\n",
              "    }\n",
              "\n",
              "    .dataframe tbody tr th {\n",
              "        vertical-align: top;\n",
              "    }\n",
              "\n",
              "    .dataframe thead th {\n",
              "        text-align: right;\n",
              "    }\n",
              "</style>\n",
              "<table border=\"1\" class=\"dataframe\">\n",
              "  <thead>\n",
              "    <tr style=\"text-align: right;\">\n",
              "      <th></th>\n",
              "      <th>id</th>\n",
              "      <th>vendor_id</th>\n",
              "      <th>pickup_datetime</th>\n",
              "      <th>dropoff_datetime</th>\n",
              "      <th>passenger_count</th>\n",
              "      <th>pickup_longitude</th>\n",
              "      <th>pickup_latitude</th>\n",
              "      <th>dropoff_longitude</th>\n",
              "      <th>dropoff_latitude</th>\n",
              "      <th>store_and_fwd_flag</th>\n",
              "      <th>trip_duration</th>\n",
              "    </tr>\n",
              "  </thead>\n",
              "  <tbody>\n",
              "    <tr>\n",
              "      <th>0</th>\n",
              "      <td>id2875421</td>\n",
              "      <td>2</td>\n",
              "      <td>2016-03-14 17:24:55</td>\n",
              "      <td>2016-03-14 17:32:30</td>\n",
              "      <td>1</td>\n",
              "      <td>-73.982155</td>\n",
              "      <td>40.767937</td>\n",
              "      <td>-73.964630</td>\n",
              "      <td>40.765602</td>\n",
              "      <td>N</td>\n",
              "      <td>455</td>\n",
              "    </tr>\n",
              "    <tr>\n",
              "      <th>1</th>\n",
              "      <td>id2377394</td>\n",
              "      <td>1</td>\n",
              "      <td>2016-06-12 00:43:35</td>\n",
              "      <td>2016-06-12 00:54:38</td>\n",
              "      <td>1</td>\n",
              "      <td>-73.980415</td>\n",
              "      <td>40.738564</td>\n",
              "      <td>-73.999481</td>\n",
              "      <td>40.731152</td>\n",
              "      <td>N</td>\n",
              "      <td>663</td>\n",
              "    </tr>\n",
              "    <tr>\n",
              "      <th>2</th>\n",
              "      <td>id3858529</td>\n",
              "      <td>2</td>\n",
              "      <td>2016-01-19 11:35:24</td>\n",
              "      <td>2016-01-19 12:10:48</td>\n",
              "      <td>1</td>\n",
              "      <td>-73.979027</td>\n",
              "      <td>40.763939</td>\n",
              "      <td>-74.005333</td>\n",
              "      <td>40.710087</td>\n",
              "      <td>N</td>\n",
              "      <td>2124</td>\n",
              "    </tr>\n",
              "    <tr>\n",
              "      <th>3</th>\n",
              "      <td>id3504673</td>\n",
              "      <td>2</td>\n",
              "      <td>2016-04-06 19:32:31</td>\n",
              "      <td>2016-04-06 19:39:40</td>\n",
              "      <td>1</td>\n",
              "      <td>-74.010040</td>\n",
              "      <td>40.719971</td>\n",
              "      <td>-74.012268</td>\n",
              "      <td>40.706718</td>\n",
              "      <td>N</td>\n",
              "      <td>429</td>\n",
              "    </tr>\n",
              "    <tr>\n",
              "      <th>4</th>\n",
              "      <td>id2181028</td>\n",
              "      <td>2</td>\n",
              "      <td>2016-03-26 13:30:55</td>\n",
              "      <td>2016-03-26 13:38:10</td>\n",
              "      <td>1</td>\n",
              "      <td>-73.973053</td>\n",
              "      <td>40.793209</td>\n",
              "      <td>-73.972923</td>\n",
              "      <td>40.782520</td>\n",
              "      <td>N</td>\n",
              "      <td>435</td>\n",
              "    </tr>\n",
              "    <tr>\n",
              "      <th>...</th>\n",
              "      <td>...</td>\n",
              "      <td>...</td>\n",
              "      <td>...</td>\n",
              "      <td>...</td>\n",
              "      <td>...</td>\n",
              "      <td>...</td>\n",
              "      <td>...</td>\n",
              "      <td>...</td>\n",
              "      <td>...</td>\n",
              "      <td>...</td>\n",
              "      <td>...</td>\n",
              "    </tr>\n",
              "    <tr>\n",
              "      <th>1458639</th>\n",
              "      <td>id2376096</td>\n",
              "      <td>2</td>\n",
              "      <td>2016-04-08 13:31:04</td>\n",
              "      <td>2016-04-08 13:44:02</td>\n",
              "      <td>4</td>\n",
              "      <td>-73.982201</td>\n",
              "      <td>40.745522</td>\n",
              "      <td>-73.994911</td>\n",
              "      <td>40.740170</td>\n",
              "      <td>N</td>\n",
              "      <td>778</td>\n",
              "    </tr>\n",
              "    <tr>\n",
              "      <th>1458640</th>\n",
              "      <td>id1049543</td>\n",
              "      <td>1</td>\n",
              "      <td>2016-01-10 07:35:15</td>\n",
              "      <td>2016-01-10 07:46:10</td>\n",
              "      <td>1</td>\n",
              "      <td>-74.000946</td>\n",
              "      <td>40.747379</td>\n",
              "      <td>-73.970184</td>\n",
              "      <td>40.796547</td>\n",
              "      <td>N</td>\n",
              "      <td>655</td>\n",
              "    </tr>\n",
              "    <tr>\n",
              "      <th>1458641</th>\n",
              "      <td>id2304944</td>\n",
              "      <td>2</td>\n",
              "      <td>2016-04-22 06:57:41</td>\n",
              "      <td>2016-04-22 07:10:25</td>\n",
              "      <td>1</td>\n",
              "      <td>-73.959129</td>\n",
              "      <td>40.768799</td>\n",
              "      <td>-74.004433</td>\n",
              "      <td>40.707371</td>\n",
              "      <td>N</td>\n",
              "      <td>764</td>\n",
              "    </tr>\n",
              "    <tr>\n",
              "      <th>1458642</th>\n",
              "      <td>id2714485</td>\n",
              "      <td>1</td>\n",
              "      <td>2016-01-05 15:56:26</td>\n",
              "      <td>2016-01-05 16:02:39</td>\n",
              "      <td>1</td>\n",
              "      <td>-73.982079</td>\n",
              "      <td>40.749062</td>\n",
              "      <td>-73.974632</td>\n",
              "      <td>40.757107</td>\n",
              "      <td>N</td>\n",
              "      <td>373</td>\n",
              "    </tr>\n",
              "    <tr>\n",
              "      <th>1458643</th>\n",
              "      <td>id1209952</td>\n",
              "      <td>1</td>\n",
              "      <td>2016-04-05 14:44:25</td>\n",
              "      <td>2016-04-05 14:47:43</td>\n",
              "      <td>1</td>\n",
              "      <td>-73.979538</td>\n",
              "      <td>40.781750</td>\n",
              "      <td>-73.972809</td>\n",
              "      <td>40.790585</td>\n",
              "      <td>N</td>\n",
              "      <td>198</td>\n",
              "    </tr>\n",
              "  </tbody>\n",
              "</table>\n",
              "<p>1458644 rows × 11 columns</p>\n",
              "</div>"
            ],
            "text/plain": [
              "                id  vendor_id  ... store_and_fwd_flag trip_duration\n",
              "0        id2875421          2  ...                  N           455\n",
              "1        id2377394          1  ...                  N           663\n",
              "2        id3858529          2  ...                  N          2124\n",
              "3        id3504673          2  ...                  N           429\n",
              "4        id2181028          2  ...                  N           435\n",
              "...            ...        ...  ...                ...           ...\n",
              "1458639  id2376096          2  ...                  N           778\n",
              "1458640  id1049543          1  ...                  N           655\n",
              "1458641  id2304944          2  ...                  N           764\n",
              "1458642  id2714485          1  ...                  N           373\n",
              "1458643  id1209952          1  ...                  N           198\n",
              "\n",
              "[1458644 rows x 11 columns]"
            ]
          },
          "metadata": {},
          "execution_count": 4
        }
      ]
    },
    {
      "cell_type": "code",
      "metadata": {
        "id": "2YW1KhJ_84oa"
      },
      "source": [
        "train['pickup_datetime'] = pd.to_datetime(train['pickup_datetime'], format='%Y-%m-%d %H:%M:%S')\n",
        "#train['dropoff_datetime']=pd.to_datetime(train['dropoff_datetime'],format='%Y-%m-%d %H:%M:%S')\n",
        "\n",
        "train['pickup_date']= train['pickup_datetime'].dt.date\n",
        "train['pickup_day']=train['pickup_datetime'].apply(lambda x:x.day)\n",
        "train['pickup_hour']=train['pickup_datetime'].apply(lambda x:x.hour)\n",
        "train['pickup_day_of_week']=train['pickup_datetime'].apply(lambda x:calendar.day_name[x.weekday()])\n",
        "# train['dropoff_date']= train['dropoff_datetime'].dt.date\n",
        "# train['dropoff_day']=train['dropoff_datetime'].apply(lambda x:x.day)\n",
        "# train['dropoff_hour']=train['dropoff_datetime'].apply(lambda x:x.hour)\n",
        "# train['dropoff_day_of_week']=train['dropoff_datetime'].apply(lambda x:calendar.day_name[x.weekday()])\n",
        "\n",
        "\n"
      ],
      "execution_count": 5,
      "outputs": []
    },
    {
      "cell_type": "code",
      "metadata": {
        "id": "aQxfISt_9kxE"
      },
      "source": [
        "def calculateDistance(row):\n",
        "    R=6373.0 # approximate radius of earth in km\n",
        "    pickup_lat=radians(row['pickup_latitude'])\n",
        "    pickup_lon=radians(row['pickup_longitude'])\n",
        "    dropoff_lat=radians(row['dropoff_latitude'])\n",
        "    dropoff_lon=radians(row['dropoff_longitude'])\n",
        "    dlon = dropoff_lon - pickup_lon\n",
        "    dlat = dropoff_lat - pickup_lat\n",
        "    a = sin(dlat / 2)**2 + cos(pickup_lat) * cos(dropoff_lat) * sin(dlon / 2)**2\n",
        "    c = 2 * atan2(sqrt(a), sqrt(1 - a))\n",
        "    distance = R * c\n",
        "    return distance"
      ],
      "execution_count": 6,
      "outputs": []
    },
    {
      "cell_type": "code",
      "metadata": {
        "id": "DmMdqMBL9ph8"
      },
      "source": [
        "train['trip_distance']=train.apply(lambda row:calculateDistance(row),axis=1)\n"
      ],
      "execution_count": 7,
      "outputs": []
    },
    {
      "cell_type": "code",
      "metadata": {
        "id": "ve_c7sZz9uWA"
      },
      "source": [
        "#train['trip_duration_in_hour']=train['trip_duration'].apply(lambda x:x/3600)\n",
        "#test['trip_duration_in_hour']=test['trip_duration'].apply(lambda x:x/3600)"
      ],
      "execution_count": 8,
      "outputs": []
    },
    {
      "cell_type": "code",
      "metadata": {
        "id": "__NlA4UXBY_0"
      },
      "source": [
        "from sklearn.preprocessing import OrdinalEncoder\n",
        "oc = OrdinalEncoder()\n",
        "train[['store_and_fwd_flag','pickup_day_of_week']] = oc.fit_transform(train[['store_and_fwd_flag','pickup_day_of_week']])\n",
        "\n"
      ],
      "execution_count": 9,
      "outputs": []
    },
    {
      "cell_type": "code",
      "metadata": {
        "id": "qYbYRu0IAiuC"
      },
      "source": [
        "train = pd.get_dummies(train,columns = ['vendor_id','store_and_fwd_flag','pickup_day_of_week'],prefix_sep = '-',drop_first=True)\n"
      ],
      "execution_count": 10,
      "outputs": []
    },
    {
      "cell_type": "code",
      "metadata": {
        "colab": {
          "base_uri": "https://localhost:8080/",
          "height": 626
        },
        "id": "bc8QIpV_qwZH",
        "outputId": "abbf3999-7c90-4d97-c31f-f6e7033e2df0"
      },
      "source": [
        "train"
      ],
      "execution_count": 11,
      "outputs": [
        {
          "output_type": "execute_result",
          "data": {
            "text/html": [
              "<div>\n",
              "<style scoped>\n",
              "    .dataframe tbody tr th:only-of-type {\n",
              "        vertical-align: middle;\n",
              "    }\n",
              "\n",
              "    .dataframe tbody tr th {\n",
              "        vertical-align: top;\n",
              "    }\n",
              "\n",
              "    .dataframe thead th {\n",
              "        text-align: right;\n",
              "    }\n",
              "</style>\n",
              "<table border=\"1\" class=\"dataframe\">\n",
              "  <thead>\n",
              "    <tr style=\"text-align: right;\">\n",
              "      <th></th>\n",
              "      <th>id</th>\n",
              "      <th>pickup_datetime</th>\n",
              "      <th>dropoff_datetime</th>\n",
              "      <th>passenger_count</th>\n",
              "      <th>pickup_longitude</th>\n",
              "      <th>pickup_latitude</th>\n",
              "      <th>dropoff_longitude</th>\n",
              "      <th>dropoff_latitude</th>\n",
              "      <th>trip_duration</th>\n",
              "      <th>pickup_date</th>\n",
              "      <th>pickup_day</th>\n",
              "      <th>pickup_hour</th>\n",
              "      <th>trip_distance</th>\n",
              "      <th>vendor_id-2</th>\n",
              "      <th>store_and_fwd_flag-1.0</th>\n",
              "      <th>pickup_day_of_week-1.0</th>\n",
              "      <th>pickup_day_of_week-2.0</th>\n",
              "      <th>pickup_day_of_week-3.0</th>\n",
              "      <th>pickup_day_of_week-4.0</th>\n",
              "      <th>pickup_day_of_week-5.0</th>\n",
              "      <th>pickup_day_of_week-6.0</th>\n",
              "    </tr>\n",
              "  </thead>\n",
              "  <tbody>\n",
              "    <tr>\n",
              "      <th>0</th>\n",
              "      <td>id2875421</td>\n",
              "      <td>2016-03-14 17:24:55</td>\n",
              "      <td>2016-03-14 17:32:30</td>\n",
              "      <td>1</td>\n",
              "      <td>-73.982155</td>\n",
              "      <td>40.767937</td>\n",
              "      <td>-73.964630</td>\n",
              "      <td>40.765602</td>\n",
              "      <td>455</td>\n",
              "      <td>2016-03-14</td>\n",
              "      <td>14</td>\n",
              "      <td>17</td>\n",
              "      <td>1.498991</td>\n",
              "      <td>1</td>\n",
              "      <td>0</td>\n",
              "      <td>1</td>\n",
              "      <td>0</td>\n",
              "      <td>0</td>\n",
              "      <td>0</td>\n",
              "      <td>0</td>\n",
              "      <td>0</td>\n",
              "    </tr>\n",
              "    <tr>\n",
              "      <th>1</th>\n",
              "      <td>id2377394</td>\n",
              "      <td>2016-06-12 00:43:35</td>\n",
              "      <td>2016-06-12 00:54:38</td>\n",
              "      <td>1</td>\n",
              "      <td>-73.980415</td>\n",
              "      <td>40.738564</td>\n",
              "      <td>-73.999481</td>\n",
              "      <td>40.731152</td>\n",
              "      <td>663</td>\n",
              "      <td>2016-06-12</td>\n",
              "      <td>12</td>\n",
              "      <td>0</td>\n",
              "      <td>1.806074</td>\n",
              "      <td>0</td>\n",
              "      <td>0</td>\n",
              "      <td>0</td>\n",
              "      <td>0</td>\n",
              "      <td>1</td>\n",
              "      <td>0</td>\n",
              "      <td>0</td>\n",
              "      <td>0</td>\n",
              "    </tr>\n",
              "    <tr>\n",
              "      <th>2</th>\n",
              "      <td>id3858529</td>\n",
              "      <td>2016-01-19 11:35:24</td>\n",
              "      <td>2016-01-19 12:10:48</td>\n",
              "      <td>1</td>\n",
              "      <td>-73.979027</td>\n",
              "      <td>40.763939</td>\n",
              "      <td>-74.005333</td>\n",
              "      <td>40.710087</td>\n",
              "      <td>2124</td>\n",
              "      <td>2016-01-19</td>\n",
              "      <td>19</td>\n",
              "      <td>11</td>\n",
              "      <td>6.387103</td>\n",
              "      <td>1</td>\n",
              "      <td>0</td>\n",
              "      <td>0</td>\n",
              "      <td>0</td>\n",
              "      <td>0</td>\n",
              "      <td>0</td>\n",
              "      <td>1</td>\n",
              "      <td>0</td>\n",
              "    </tr>\n",
              "    <tr>\n",
              "      <th>3</th>\n",
              "      <td>id3504673</td>\n",
              "      <td>2016-04-06 19:32:31</td>\n",
              "      <td>2016-04-06 19:39:40</td>\n",
              "      <td>1</td>\n",
              "      <td>-74.010040</td>\n",
              "      <td>40.719971</td>\n",
              "      <td>-74.012268</td>\n",
              "      <td>40.706718</td>\n",
              "      <td>429</td>\n",
              "      <td>2016-04-06</td>\n",
              "      <td>6</td>\n",
              "      <td>19</td>\n",
              "      <td>1.485965</td>\n",
              "      <td>1</td>\n",
              "      <td>0</td>\n",
              "      <td>0</td>\n",
              "      <td>0</td>\n",
              "      <td>0</td>\n",
              "      <td>0</td>\n",
              "      <td>0</td>\n",
              "      <td>1</td>\n",
              "    </tr>\n",
              "    <tr>\n",
              "      <th>4</th>\n",
              "      <td>id2181028</td>\n",
              "      <td>2016-03-26 13:30:55</td>\n",
              "      <td>2016-03-26 13:38:10</td>\n",
              "      <td>1</td>\n",
              "      <td>-73.973053</td>\n",
              "      <td>40.793209</td>\n",
              "      <td>-73.972923</td>\n",
              "      <td>40.782520</td>\n",
              "      <td>435</td>\n",
              "      <td>2016-03-26</td>\n",
              "      <td>26</td>\n",
              "      <td>13</td>\n",
              "      <td>1.188962</td>\n",
              "      <td>1</td>\n",
              "      <td>0</td>\n",
              "      <td>0</td>\n",
              "      <td>1</td>\n",
              "      <td>0</td>\n",
              "      <td>0</td>\n",
              "      <td>0</td>\n",
              "      <td>0</td>\n",
              "    </tr>\n",
              "    <tr>\n",
              "      <th>...</th>\n",
              "      <td>...</td>\n",
              "      <td>...</td>\n",
              "      <td>...</td>\n",
              "      <td>...</td>\n",
              "      <td>...</td>\n",
              "      <td>...</td>\n",
              "      <td>...</td>\n",
              "      <td>...</td>\n",
              "      <td>...</td>\n",
              "      <td>...</td>\n",
              "      <td>...</td>\n",
              "      <td>...</td>\n",
              "      <td>...</td>\n",
              "      <td>...</td>\n",
              "      <td>...</td>\n",
              "      <td>...</td>\n",
              "      <td>...</td>\n",
              "      <td>...</td>\n",
              "      <td>...</td>\n",
              "      <td>...</td>\n",
              "      <td>...</td>\n",
              "    </tr>\n",
              "    <tr>\n",
              "      <th>1458639</th>\n",
              "      <td>id2376096</td>\n",
              "      <td>2016-04-08 13:31:04</td>\n",
              "      <td>2016-04-08 13:44:02</td>\n",
              "      <td>4</td>\n",
              "      <td>-73.982201</td>\n",
              "      <td>40.745522</td>\n",
              "      <td>-73.994911</td>\n",
              "      <td>40.740170</td>\n",
              "      <td>778</td>\n",
              "      <td>2016-04-08</td>\n",
              "      <td>8</td>\n",
              "      <td>13</td>\n",
              "      <td>1.225465</td>\n",
              "      <td>1</td>\n",
              "      <td>0</td>\n",
              "      <td>0</td>\n",
              "      <td>0</td>\n",
              "      <td>0</td>\n",
              "      <td>0</td>\n",
              "      <td>0</td>\n",
              "      <td>0</td>\n",
              "    </tr>\n",
              "    <tr>\n",
              "      <th>1458640</th>\n",
              "      <td>id1049543</td>\n",
              "      <td>2016-01-10 07:35:15</td>\n",
              "      <td>2016-01-10 07:46:10</td>\n",
              "      <td>1</td>\n",
              "      <td>-74.000946</td>\n",
              "      <td>40.747379</td>\n",
              "      <td>-73.970184</td>\n",
              "      <td>40.796547</td>\n",
              "      <td>655</td>\n",
              "      <td>2016-01-10</td>\n",
              "      <td>10</td>\n",
              "      <td>7</td>\n",
              "      <td>6.051735</td>\n",
              "      <td>0</td>\n",
              "      <td>0</td>\n",
              "      <td>0</td>\n",
              "      <td>0</td>\n",
              "      <td>1</td>\n",
              "      <td>0</td>\n",
              "      <td>0</td>\n",
              "      <td>0</td>\n",
              "    </tr>\n",
              "    <tr>\n",
              "      <th>1458641</th>\n",
              "      <td>id2304944</td>\n",
              "      <td>2016-04-22 06:57:41</td>\n",
              "      <td>2016-04-22 07:10:25</td>\n",
              "      <td>1</td>\n",
              "      <td>-73.959129</td>\n",
              "      <td>40.768799</td>\n",
              "      <td>-74.004433</td>\n",
              "      <td>40.707371</td>\n",
              "      <td>764</td>\n",
              "      <td>2016-04-22</td>\n",
              "      <td>22</td>\n",
              "      <td>6</td>\n",
              "      <td>7.827062</td>\n",
              "      <td>1</td>\n",
              "      <td>0</td>\n",
              "      <td>0</td>\n",
              "      <td>0</td>\n",
              "      <td>0</td>\n",
              "      <td>0</td>\n",
              "      <td>0</td>\n",
              "      <td>0</td>\n",
              "    </tr>\n",
              "    <tr>\n",
              "      <th>1458642</th>\n",
              "      <td>id2714485</td>\n",
              "      <td>2016-01-05 15:56:26</td>\n",
              "      <td>2016-01-05 16:02:39</td>\n",
              "      <td>1</td>\n",
              "      <td>-73.982079</td>\n",
              "      <td>40.749062</td>\n",
              "      <td>-73.974632</td>\n",
              "      <td>40.757107</td>\n",
              "      <td>373</td>\n",
              "      <td>2016-01-05</td>\n",
              "      <td>5</td>\n",
              "      <td>15</td>\n",
              "      <td>1.092907</td>\n",
              "      <td>0</td>\n",
              "      <td>0</td>\n",
              "      <td>0</td>\n",
              "      <td>0</td>\n",
              "      <td>0</td>\n",
              "      <td>0</td>\n",
              "      <td>1</td>\n",
              "      <td>0</td>\n",
              "    </tr>\n",
              "    <tr>\n",
              "      <th>1458643</th>\n",
              "      <td>id1209952</td>\n",
              "      <td>2016-04-05 14:44:25</td>\n",
              "      <td>2016-04-05 14:47:43</td>\n",
              "      <td>1</td>\n",
              "      <td>-73.979538</td>\n",
              "      <td>40.781750</td>\n",
              "      <td>-73.972809</td>\n",
              "      <td>40.790585</td>\n",
              "      <td>198</td>\n",
              "      <td>2016-04-05</td>\n",
              "      <td>5</td>\n",
              "      <td>14</td>\n",
              "      <td>1.134398</td>\n",
              "      <td>0</td>\n",
              "      <td>0</td>\n",
              "      <td>0</td>\n",
              "      <td>0</td>\n",
              "      <td>0</td>\n",
              "      <td>0</td>\n",
              "      <td>1</td>\n",
              "      <td>0</td>\n",
              "    </tr>\n",
              "  </tbody>\n",
              "</table>\n",
              "<p>1458644 rows × 21 columns</p>\n",
              "</div>"
            ],
            "text/plain": [
              "                id  ... pickup_day_of_week-6.0\n",
              "0        id2875421  ...                      0\n",
              "1        id2377394  ...                      0\n",
              "2        id3858529  ...                      0\n",
              "3        id3504673  ...                      1\n",
              "4        id2181028  ...                      0\n",
              "...            ...  ...                    ...\n",
              "1458639  id2376096  ...                      0\n",
              "1458640  id1049543  ...                      0\n",
              "1458641  id2304944  ...                      0\n",
              "1458642  id2714485  ...                      0\n",
              "1458643  id1209952  ...                      0\n",
              "\n",
              "[1458644 rows x 21 columns]"
            ]
          },
          "metadata": {},
          "execution_count": 11
        }
      ]
    },
    {
      "cell_type": "code",
      "metadata": {
        "id": "rlnfBOl7BFVn"
      },
      "source": [
        "train_d = train.drop(['pickup_date','pickup_datetime','id','dropoff_datetime','pickup_longitude','pickup_latitude','dropoff_longitude','dropoff_latitude'],axis = 1)\n",
        "\n"
      ],
      "execution_count": 22,
      "outputs": []
    },
    {
      "cell_type": "code",
      "metadata": {
        "id": "j2x_qrbxrCpj"
      },
      "source": [
        "from scipy import stats\n",
        "import numpy as np\n",
        "z = np.abs(stats.zscore(train_d.drop('trip_duration',axis =1)))"
      ],
      "execution_count": 13,
      "outputs": []
    },
    {
      "cell_type": "code",
      "metadata": {
        "id": "lQWrAgrsrF6K"
      },
      "source": [
        "#train_d = train_d[(z < 2).all(axis=1)]\n",
        "Q1 = train_d.quantile(0.25)\n",
        "Q3 = train_d.quantile(0.75)\n",
        "IQR = Q3 - Q1\n",
        "train_d = train_d[~((train_d < (Q1 - 1.5 * IQR)) |train_d > (Q3 + 1.5 * IQR)).any(axis=1)]"
      ],
      "execution_count": 23,
      "outputs": []
    },
    {
      "cell_type": "code",
      "metadata": {
        "colab": {
          "base_uri": "https://localhost:8080/",
          "height": 456
        },
        "id": "OvQNwJwyt2AI",
        "outputId": "f43d291b-98a2-42ff-8486-52119fb1882c"
      },
      "source": [
        "train_d"
      ],
      "execution_count": 24,
      "outputs": [
        {
          "output_type": "execute_result",
          "data": {
            "text/html": [
              "<div>\n",
              "<style scoped>\n",
              "    .dataframe tbody tr th:only-of-type {\n",
              "        vertical-align: middle;\n",
              "    }\n",
              "\n",
              "    .dataframe tbody tr th {\n",
              "        vertical-align: top;\n",
              "    }\n",
              "\n",
              "    .dataframe thead th {\n",
              "        text-align: right;\n",
              "    }\n",
              "</style>\n",
              "<table border=\"1\" class=\"dataframe\">\n",
              "  <thead>\n",
              "    <tr style=\"text-align: right;\">\n",
              "      <th></th>\n",
              "      <th>passenger_count</th>\n",
              "      <th>trip_duration</th>\n",
              "      <th>pickup_day</th>\n",
              "      <th>pickup_hour</th>\n",
              "      <th>trip_distance</th>\n",
              "      <th>vendor_id-2</th>\n",
              "      <th>store_and_fwd_flag-1.0</th>\n",
              "      <th>pickup_day_of_week-1.0</th>\n",
              "      <th>pickup_day_of_week-2.0</th>\n",
              "      <th>pickup_day_of_week-3.0</th>\n",
              "      <th>pickup_day_of_week-4.0</th>\n",
              "      <th>pickup_day_of_week-5.0</th>\n",
              "      <th>pickup_day_of_week-6.0</th>\n",
              "    </tr>\n",
              "  </thead>\n",
              "  <tbody>\n",
              "    <tr>\n",
              "      <th>6</th>\n",
              "      <td>4</td>\n",
              "      <td>341</td>\n",
              "      <td>17</td>\n",
              "      <td>22</td>\n",
              "      <td>1.326695</td>\n",
              "      <td>0</td>\n",
              "      <td>0</td>\n",
              "      <td>0</td>\n",
              "      <td>0</td>\n",
              "      <td>0</td>\n",
              "      <td>0</td>\n",
              "      <td>0</td>\n",
              "      <td>0</td>\n",
              "    </tr>\n",
              "    <tr>\n",
              "      <th>8</th>\n",
              "      <td>1</td>\n",
              "      <td>255</td>\n",
              "      <td>27</td>\n",
              "      <td>23</td>\n",
              "      <td>1.310765</td>\n",
              "      <td>0</td>\n",
              "      <td>0</td>\n",
              "      <td>0</td>\n",
              "      <td>0</td>\n",
              "      <td>0</td>\n",
              "      <td>0</td>\n",
              "      <td>0</td>\n",
              "      <td>0</td>\n",
              "    </tr>\n",
              "    <tr>\n",
              "      <th>12</th>\n",
              "      <td>2</td>\n",
              "      <td>1114</td>\n",
              "      <td>19</td>\n",
              "      <td>9</td>\n",
              "      <td>1.860067</td>\n",
              "      <td>1</td>\n",
              "      <td>0</td>\n",
              "      <td>0</td>\n",
              "      <td>0</td>\n",
              "      <td>0</td>\n",
              "      <td>0</td>\n",
              "      <td>0</td>\n",
              "      <td>0</td>\n",
              "    </tr>\n",
              "    <tr>\n",
              "      <th>14</th>\n",
              "      <td>1</td>\n",
              "      <td>1414</td>\n",
              "      <td>27</td>\n",
              "      <td>0</td>\n",
              "      <td>6.384839</td>\n",
              "      <td>1</td>\n",
              "      <td>0</td>\n",
              "      <td>0</td>\n",
              "      <td>0</td>\n",
              "      <td>0</td>\n",
              "      <td>0</td>\n",
              "      <td>0</td>\n",
              "      <td>0</td>\n",
              "    </tr>\n",
              "    <tr>\n",
              "      <th>21</th>\n",
              "      <td>1</td>\n",
              "      <td>652</td>\n",
              "      <td>1</td>\n",
              "      <td>12</td>\n",
              "      <td>1.725091</td>\n",
              "      <td>1</td>\n",
              "      <td>0</td>\n",
              "      <td>0</td>\n",
              "      <td>0</td>\n",
              "      <td>0</td>\n",
              "      <td>0</td>\n",
              "      <td>0</td>\n",
              "      <td>0</td>\n",
              "    </tr>\n",
              "    <tr>\n",
              "      <th>...</th>\n",
              "      <td>...</td>\n",
              "      <td>...</td>\n",
              "      <td>...</td>\n",
              "      <td>...</td>\n",
              "      <td>...</td>\n",
              "      <td>...</td>\n",
              "      <td>...</td>\n",
              "      <td>...</td>\n",
              "      <td>...</td>\n",
              "      <td>...</td>\n",
              "      <td>...</td>\n",
              "      <td>...</td>\n",
              "      <td>...</td>\n",
              "    </tr>\n",
              "    <tr>\n",
              "      <th>1458622</th>\n",
              "      <td>1</td>\n",
              "      <td>552</td>\n",
              "      <td>19</td>\n",
              "      <td>18</td>\n",
              "      <td>0.729980</td>\n",
              "      <td>1</td>\n",
              "      <td>0</td>\n",
              "      <td>0</td>\n",
              "      <td>0</td>\n",
              "      <td>0</td>\n",
              "      <td>0</td>\n",
              "      <td>0</td>\n",
              "      <td>0</td>\n",
              "    </tr>\n",
              "    <tr>\n",
              "      <th>1458629</th>\n",
              "      <td>1</td>\n",
              "      <td>601</td>\n",
              "      <td>24</td>\n",
              "      <td>10</td>\n",
              "      <td>2.560253</td>\n",
              "      <td>1</td>\n",
              "      <td>0</td>\n",
              "      <td>0</td>\n",
              "      <td>0</td>\n",
              "      <td>0</td>\n",
              "      <td>0</td>\n",
              "      <td>0</td>\n",
              "      <td>0</td>\n",
              "    </tr>\n",
              "    <tr>\n",
              "      <th>1458636</th>\n",
              "      <td>1</td>\n",
              "      <td>800</td>\n",
              "      <td>12</td>\n",
              "      <td>10</td>\n",
              "      <td>0.930942</td>\n",
              "      <td>1</td>\n",
              "      <td>0</td>\n",
              "      <td>0</td>\n",
              "      <td>0</td>\n",
              "      <td>0</td>\n",
              "      <td>0</td>\n",
              "      <td>0</td>\n",
              "      <td>0</td>\n",
              "    </tr>\n",
              "    <tr>\n",
              "      <th>1458639</th>\n",
              "      <td>4</td>\n",
              "      <td>778</td>\n",
              "      <td>8</td>\n",
              "      <td>13</td>\n",
              "      <td>1.225465</td>\n",
              "      <td>1</td>\n",
              "      <td>0</td>\n",
              "      <td>0</td>\n",
              "      <td>0</td>\n",
              "      <td>0</td>\n",
              "      <td>0</td>\n",
              "      <td>0</td>\n",
              "      <td>0</td>\n",
              "    </tr>\n",
              "    <tr>\n",
              "      <th>1458641</th>\n",
              "      <td>1</td>\n",
              "      <td>764</td>\n",
              "      <td>22</td>\n",
              "      <td>6</td>\n",
              "      <td>7.827062</td>\n",
              "      <td>1</td>\n",
              "      <td>0</td>\n",
              "      <td>0</td>\n",
              "      <td>0</td>\n",
              "      <td>0</td>\n",
              "      <td>0</td>\n",
              "      <td>0</td>\n",
              "      <td>0</td>\n",
              "    </tr>\n",
              "  </tbody>\n",
              "</table>\n",
              "<p>222254 rows × 13 columns</p>\n",
              "</div>"
            ],
            "text/plain": [
              "         passenger_count  ...  pickup_day_of_week-6.0\n",
              "6                      4  ...                       0\n",
              "8                      1  ...                       0\n",
              "12                     2  ...                       0\n",
              "14                     1  ...                       0\n",
              "21                     1  ...                       0\n",
              "...                  ...  ...                     ...\n",
              "1458622                1  ...                       0\n",
              "1458629                1  ...                       0\n",
              "1458636                1  ...                       0\n",
              "1458639                4  ...                       0\n",
              "1458641                1  ...                       0\n",
              "\n",
              "[222254 rows x 13 columns]"
            ]
          },
          "metadata": {},
          "execution_count": 24
        }
      ]
    },
    {
      "cell_type": "code",
      "metadata": {
        "id": "Zb2FPHlx9Sd8"
      },
      "source": [
        "train_d1 = train_d.iloc[:220000]\n",
        "test_d = train_d.iloc[220000:]\n",
        "X_train = train_d1.drop(['trip_duration'], axis = 1)\n",
        "X_test = test_d.drop(['trip_duration'], axis = 1)\n",
        "y_test = np.log(test_d['trip_duration'].astype('int64'))\n",
        "y_train =np.log(train_d1['trip_duration'].astype('int64'))"
      ],
      "execution_count": 26,
      "outputs": []
    },
    {
      "cell_type": "code",
      "metadata": {
        "colab": {
          "base_uri": "https://localhost:8080/"
        },
        "id": "QqFYl13l-0B6",
        "outputId": "e85d146d-50d5-4497-d609-46264178a78c"
      },
      "source": [
        "X_test.shape, X_train.shape, y_test.shape, y_train.shape"
      ],
      "execution_count": 27,
      "outputs": [
        {
          "output_type": "execute_result",
          "data": {
            "text/plain": [
              "((2254, 12), (220000, 12), (2254,), (220000,))"
            ]
          },
          "metadata": {},
          "execution_count": 27
        }
      ]
    },
    {
      "cell_type": "code",
      "metadata": {
        "id": "y9d6Q2jtiZs3"
      },
      "source": [
        "# X = train_d.drop(['trip_duration'], axis = 1)\n",
        "# y = np.log(train_d['trip_duration'].astype('int64'))\n",
        "\n",
        "# from sklearn.model_selection import train_test_split\n",
        "# X_train, X_test, y_train, y_test = train_test_split(X, y, test_size=0.33, random_state=30)"
      ],
      "execution_count": 18,
      "outputs": []
    },
    {
      "cell_type": "code",
      "metadata": {
        "id": "3-wwMPUM0Pth"
      },
      "source": [
        "X_train = np.array(X_train)\n",
        "X_test = np.array(X_test)"
      ],
      "execution_count": 28,
      "outputs": []
    },
    {
      "cell_type": "code",
      "metadata": {
        "id": "wtL5GrdByPD6"
      },
      "source": [
        "# X_train = np.reshape(X_train, (X_train.shape[0], X_train.shape[1], 1))\n",
        "# X_test = np.reshape(X_test, (X_test.shape[0], X_test.shape[1], 1))"
      ],
      "execution_count": 29,
      "outputs": []
    },
    {
      "cell_type": "code",
      "metadata": {
        "colab": {
          "base_uri": "https://localhost:8080/"
        },
        "id": "XDL-GCoT4sIy",
        "outputId": "ba182a2d-df64-43f3-deb0-4c287f0c5e54"
      },
      "source": [
        "subsequences = 2\n",
        "timesteps = X_train.shape[1]//subsequences\n",
        "X_train = X_train.reshape((X_train.shape[0], subsequences, timesteps, 1))\n",
        "X_test = X_test.reshape((X_test.shape[0], subsequences, timesteps, 1))\n",
        "print('Train set shape', X_train.shape)\n",
        "print('Validation set shape', X_test.shape)"
      ],
      "execution_count": 30,
      "outputs": [
        {
          "output_type": "stream",
          "text": [
            "Train set shape (220000, 2, 6, 1)\n",
            "Validation set shape (2254, 2, 6, 1)\n"
          ],
          "name": "stdout"
        }
      ]
    },
    {
      "cell_type": "code",
      "metadata": {
        "id": "gdYqqyVE7n_y"
      },
      "source": [
        "#to stop training after 40 epochs\n",
        "callback = keras.callbacks.EarlyStopping(monitor='loss', patience=15)\n",
        "from keras.layers import LSTM"
      ],
      "execution_count": 31,
      "outputs": []
    },
    {
      "cell_type": "code",
      "metadata": {
        "id": "xvJGk6kt5Fm9"
      },
      "source": [
        "# model = Sequential()\n",
        "# model.add(LSTM(12, input_shape=(12, 1)))\n",
        "# model.add(Dense(231, activation='relu'))\n",
        "# model.add(Dense(136, activation='relu'))\n",
        "# model.add(Dense(123, activation='relu'))\n",
        "# model.add(Dense(216, activation='relu'))\n",
        "# model.add(Dense(123, activation='relu'))\n",
        "# model.add(Dense(1))\n",
        "# # Compile model\n",
        "# model.compile(loss='mean_squared_error', optimizer='adam')"
      ],
      "execution_count": null,
      "outputs": []
    },
    {
      "cell_type": "code",
      "metadata": {
        "id": "tA9nmOY_3Ioj"
      },
      "source": [
        "from keras import optimizers\n",
        "from keras.models import Sequential, Model\n",
        "from keras.layers.convolutional import Conv1D, MaxPooling1D\n",
        "from keras.layers import Dense, LSTM, RepeatVector, TimeDistributed, Flatten\n",
        "model_cnn_lstm = Sequential()\n",
        "model_cnn_lstm.add(TimeDistributed(Conv1D(filters=32, kernel_size=1, activation='relu'), input_shape=(None,X_train.shape[2], X_train.shape[3])))\n",
        "model_cnn_lstm.add(TimeDistributed(MaxPooling1D(pool_size=2)))\n",
        "model_cnn_lstm.add(TimeDistributed(Flatten()))\n",
        "model_cnn_lstm.add(LSTM(50, activation='relu'))\n",
        "model_cnn_lstm.add(Dense(36, activation='relu'))\n",
        "model_cnn_lstm.add(Dense(76, activation='relu'))\n",
        "model_cnn_lstm.add(Dense(33, activation='relu'))\n",
        "model_cnn_lstm.add(Dense(1))\n",
        "model_cnn_lstm.compile(loss='mse', optimizer='adam')"
      ],
      "execution_count": 34,
      "outputs": []
    },
    {
      "cell_type": "code",
      "metadata": {
        "colab": {
          "base_uri": "https://localhost:8080/"
        },
        "id": "WOchm42j3Wsj",
        "outputId": "cb06b971-d15f-4a39-8eeb-9cb9bccd16b0"
      },
      "source": [
        "cnn_lstm_history = model_cnn_lstm.fit(X_train, y_train,  validation_data=(X_test, y_test), epochs=10, verbose=1)"
      ],
      "execution_count": 35,
      "outputs": [
        {
          "output_type": "stream",
          "text": [
            "Epoch 1/10\n",
            "6875/6875 [==============================] - 28s 4ms/step - loss: 0.7271 - val_loss: 0.5424\n",
            "Epoch 2/10\n",
            "6875/6875 [==============================] - 26s 4ms/step - loss: 0.3803 - val_loss: 0.2620\n",
            "Epoch 3/10\n",
            "6875/6875 [==============================] - 26s 4ms/step - loss: 0.3125 - val_loss: 0.2450\n",
            "Epoch 4/10\n",
            "6875/6875 [==============================] - 26s 4ms/step - loss: 0.3013 - val_loss: 0.2353\n",
            "Epoch 5/10\n",
            "6875/6875 [==============================] - 26s 4ms/step - loss: 0.2949 - val_loss: 0.2359\n",
            "Epoch 6/10\n",
            "6875/6875 [==============================] - 26s 4ms/step - loss: 0.2910 - val_loss: 0.2353\n",
            "Epoch 7/10\n",
            "6875/6875 [==============================] - 26s 4ms/step - loss: 0.2857 - val_loss: 0.2321\n",
            "Epoch 8/10\n",
            "6875/6875 [==============================] - 27s 4ms/step - loss: 0.2829 - val_loss: 0.2287\n",
            "Epoch 9/10\n",
            "6875/6875 [==============================] - 27s 4ms/step - loss: 0.2807 - val_loss: 0.2295\n",
            "Epoch 10/10\n",
            "6875/6875 [==============================] - 25s 4ms/step - loss: 0.2788 - val_loss: 0.2236\n"
          ],
          "name": "stdout"
        }
      ]
    },
    {
      "cell_type": "code",
      "metadata": {
        "id": "D7IJ6QsX7WWU"
      },
      "source": [
        "# valid_set = (X_test, y_test)\n",
        "# model.fit(X_train, y_train, batch_size=50, validation_data = valid_set, epochs=10, callbacks=callback, shuffle=True, verbose=1)"
      ],
      "execution_count": 36,
      "outputs": []
    },
    {
      "cell_type": "code",
      "metadata": {
        "id": "HZ0DdwmbR0lF"
      },
      "source": [
        "\n",
        "model.save('my_model2.h5') \n"
      ],
      "execution_count": null,
      "outputs": []
    },
    {
      "cell_type": "code",
      "metadata": {
        "id": "CV_mHt0ZSvDa"
      },
      "source": [
        "import tensorflow as tf\n",
        "new_model = tf.keras.models.load_model('my_model2.h5')"
      ],
      "execution_count": null,
      "outputs": []
    },
    {
      "cell_type": "code",
      "metadata": {
        "id": "QgP5mnyV7jIo"
      },
      "source": [
        "prediction = model_cnn_lstm.predict(X_test)\n"
      ],
      "execution_count": 37,
      "outputs": []
    },
    {
      "cell_type": "code",
      "metadata": {
        "id": "tBh8XY5R-805"
      },
      "source": [
        "import sklearn.metrics as metrics\n",
        "def mean_absolute_percentage_error(y_true, y_pred): \n",
        "    y_true, y_pred = np.array(y_true), np.array(y_pred)\n",
        "    return np.mean(np.abs((y_true - y_pred) / y_true)) * 100\n",
        "def regression_results(y_true, y_pred):\n",
        "    \n",
        "    # Regression metrics\n",
        "    explained_variance=metrics.explained_variance_score(y_true, y_pred)\n",
        "    mean_absolute_error=metrics.mean_absolute_error(y_true, y_pred) \n",
        "    mse=metrics.mean_squared_error(y_true, y_pred) \n",
        "    rmse = metrics.mean_squared_error(y_true,y_pred)\n",
        "    mean_squared_log_error=metrics.mean_squared_log_error(y_true, y_pred)\n",
        "    median_absolute_error=metrics.median_absolute_error(y_true, y_pred)\n",
        "    mape = mean_absolute_percentage_error(y_true,y_pred)\n",
        "    r2=metrics.r2_score(y_true, y_pred)\n",
        "\n",
        "    print('explained_variance: ', round(explained_variance,4))    \n",
        "    print('mean_squared_log_error: ', round(mean_squared_log_error,4))\n",
        "    print('r2: ', round(r2,4))\n",
        "    print('MAE: ', round(mean_absolute_error,4))\n",
        "    print('MSE: ', round(mse,4))\n",
        "    print('RMSE: ', round(np.sqrt(rmse),4))\n",
        "    print('MAPE: ', round(mape,4))\n",
        "    result = [round(explained_variance,4), round(mean_squared_log_error,4),round(r2,4),round(mean_absolute_error,4),round(mse,4),round(np.sqrt(mse),4)]\n",
        "    return result"
      ],
      "execution_count": 38,
      "outputs": []
    },
    {
      "cell_type": "code",
      "metadata": {
        "colab": {
          "base_uri": "https://localhost:8080/"
        },
        "id": "unfpxWoxImeq",
        "outputId": "d5b3b2ec-5c24-46a6-fae3-5eaab9de7a18"
      },
      "source": [
        "len(prediction),len(y_test)"
      ],
      "execution_count": 39,
      "outputs": [
        {
          "output_type": "execute_result",
          "data": {
            "text/plain": [
              "(2254, 2254)"
            ]
          },
          "metadata": {},
          "execution_count": 39
        }
      ]
    },
    {
      "cell_type": "code",
      "metadata": {
        "id": "1rJDN0qLI7vJ",
        "colab": {
          "base_uri": "https://localhost:8080/"
        },
        "outputId": "90cb4b57-f994-4e50-b1a6-bc32c724100e"
      },
      "source": [
        "regression_results(np.exp(y_test),np.exp(prediction).flatten())\n",
        "#mean_absolute_percentage_error(prediction, y_test)"
      ],
      "execution_count": 40,
      "outputs": [
        {
          "output_type": "stream",
          "text": [
            "explained_variance:  0.5352\n",
            "mean_squared_log_error:  0.222\n",
            "r2:  0.524\n",
            "MAE:  273.6801\n",
            "MSE:  244937.7977\n",
            "RMSE:  494.9119\n",
            "MAPE:  38.7343\n"
          ],
          "name": "stdout"
        },
        {
          "output_type": "execute_result",
          "data": {
            "text/plain": [
              "[0.5352, 0.222, 0.524, 273.6801, 244937.7977, 494.9119]"
            ]
          },
          "metadata": {},
          "execution_count": 40
        }
      ]
    },
    {
      "cell_type": "code",
      "metadata": {
        "id": "3MJVxLiwSYHD"
      },
      "source": [
        ""
      ],
      "execution_count": null,
      "outputs": []
    },
    {
      "cell_type": "code",
      "metadata": {
        "id": "ZYbsisFrULWU"
      },
      "source": [
        "result = pd.DataFrame({'y_true':np.exp(y_test),'prediction':np.exp(prediction).flatten()})"
      ],
      "execution_count": null,
      "outputs": []
    },
    {
      "cell_type": "code",
      "metadata": {
        "colab": {
          "base_uri": "https://localhost:8080/"
        },
        "id": "gs-nq_AvVZ0g",
        "outputId": "954b8387-8644-4334-92e9-48ec2922efcd"
      },
      "source": [
        "mean_absolute_percentage_error(np.exp(y_test),np.exp(prediction).flatten())"
      ],
      "execution_count": null,
      "outputs": [
        {
          "output_type": "execute_result",
          "data": {
            "text/plain": [
              "37.448170203469935"
            ]
          },
          "metadata": {},
          "execution_count": 98
        }
      ]
    },
    {
      "cell_type": "code",
      "metadata": {
        "colab": {
          "base_uri": "https://localhost:8080/",
          "height": 419
        },
        "id": "RgdbSOkMWuE4",
        "outputId": "7ff70326-ec8a-4a6d-f428-1ed758b8ae18"
      },
      "source": [
        "result"
      ],
      "execution_count": null,
      "outputs": [
        {
          "output_type": "execute_result",
          "data": {
            "text/html": [
              "<div>\n",
              "<style scoped>\n",
              "    .dataframe tbody tr th:only-of-type {\n",
              "        vertical-align: middle;\n",
              "    }\n",
              "\n",
              "    .dataframe tbody tr th {\n",
              "        vertical-align: top;\n",
              "    }\n",
              "\n",
              "    .dataframe thead th {\n",
              "        text-align: right;\n",
              "    }\n",
              "</style>\n",
              "<table border=\"1\" class=\"dataframe\">\n",
              "  <thead>\n",
              "    <tr style=\"text-align: right;\">\n",
              "      <th></th>\n",
              "      <th>y_true</th>\n",
              "      <th>prediction</th>\n",
              "    </tr>\n",
              "  </thead>\n",
              "  <tbody>\n",
              "    <tr>\n",
              "      <th>310861</th>\n",
              "      <td>417.0</td>\n",
              "      <td>414.137817</td>\n",
              "    </tr>\n",
              "    <tr>\n",
              "      <th>922950</th>\n",
              "      <td>22.0</td>\n",
              "      <td>14.014364</td>\n",
              "    </tr>\n",
              "    <tr>\n",
              "      <th>833037</th>\n",
              "      <td>434.0</td>\n",
              "      <td>412.354706</td>\n",
              "    </tr>\n",
              "    <tr>\n",
              "      <th>456955</th>\n",
              "      <td>1722.0</td>\n",
              "      <td>1703.232666</td>\n",
              "    </tr>\n",
              "    <tr>\n",
              "      <th>414925</th>\n",
              "      <td>1750.0</td>\n",
              "      <td>1765.326416</td>\n",
              "    </tr>\n",
              "    <tr>\n",
              "      <th>...</th>\n",
              "      <td>...</td>\n",
              "      <td>...</td>\n",
              "    </tr>\n",
              "    <tr>\n",
              "      <th>1036921</th>\n",
              "      <td>793.0</td>\n",
              "      <td>765.591187</td>\n",
              "    </tr>\n",
              "    <tr>\n",
              "      <th>896940</th>\n",
              "      <td>286.0</td>\n",
              "      <td>269.990479</td>\n",
              "    </tr>\n",
              "    <tr>\n",
              "      <th>728018</th>\n",
              "      <td>945.0</td>\n",
              "      <td>936.372498</td>\n",
              "    </tr>\n",
              "    <tr>\n",
              "      <th>55969</th>\n",
              "      <td>106.0</td>\n",
              "      <td>92.467026</td>\n",
              "    </tr>\n",
              "    <tr>\n",
              "      <th>301031</th>\n",
              "      <td>366.0</td>\n",
              "      <td>348.576599</td>\n",
              "    </tr>\n",
              "  </tbody>\n",
              "</table>\n",
              "<p>481353 rows × 2 columns</p>\n",
              "</div>"
            ],
            "text/plain": [
              "         y_true   prediction\n",
              "310861    417.0   414.137817\n",
              "922950     22.0    14.014364\n",
              "833037    434.0   412.354706\n",
              "456955   1722.0  1703.232666\n",
              "414925   1750.0  1765.326416\n",
              "...         ...          ...\n",
              "1036921   793.0   765.591187\n",
              "896940    286.0   269.990479\n",
              "728018    945.0   936.372498\n",
              "55969     106.0    92.467026\n",
              "301031    366.0   348.576599\n",
              "\n",
              "[481353 rows x 2 columns]"
            ]
          },
          "metadata": {},
          "execution_count": 56
        }
      ]
    },
    {
      "cell_type": "code",
      "metadata": {
        "id": "ARGNzJMNXKVi"
      },
      "source": [
        ""
      ],
      "execution_count": null,
      "outputs": []
    }
  ]
}