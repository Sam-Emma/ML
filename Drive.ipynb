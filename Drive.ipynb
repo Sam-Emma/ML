{
  "nbformat": 4,
  "nbformat_minor": 0,
  "metadata": {
    "colab": {
      "name": "Drive",
      "provenance": []
    },
    "kernelspec": {
      "name": "python3",
      "display_name": "Python 3"
    },
    "language_info": {
      "name": "python"
    }
  },
  "cells": [
    {
      "cell_type": "code",
      "metadata": {
        "id": "qUo472V0w0V-"
      },
      "source": [
        "import pandas as pd\n",
        "f = open(\"car.txt.txt\", encoding=\"utf8\")\n",
        "data = f.read()\n",
        "data = data.split(\"\\n\")"
      ],
      "execution_count": 1,
      "outputs": []
    },
    {
      "cell_type": "code",
      "metadata": {
        "colab": {
          "base_uri": "https://localhost:8080/"
        },
        "id": "EersNFacxO3w",
        "outputId": "379aa781-da16-4d51-8254-efe35038ae9d"
      },
      "source": [
        "data"
      ],
      "execution_count": 2,
      "outputs": [
        {
          "output_type": "execute_result",
          "data": {
            "text/plain": [
              "['Unknown Speaker  1:27  ',\n",
              " 'We are pushing forward.',\n",
              " '',\n",
              " 'Unknown Speaker  1:32  ',\n",
              " \"Checking and seems all side clear. Coming out wide, and I'm going to just take a waiting space, starting the signal, checking all side now\",\n",
              " '',\n",
              " 'Unknown Speaker  1:45  ',\n",
              " \"Crossing, just seeing if pedestrians are walking towards which they are. So that just gives me the body language and they get to see the brake light, everyone's cued up. So don't need to speed up particularly\",\n",
              " '',\n",
              " 'Unknown Speaker  2:09  ',\n",
              " \"So I'm going to be turning left here. So I'm already sort of keeping a bit of a space there is a cycle lane, so I can't be right up against it. And I'm also aware that I want a bit of space for cyclists to pass because it's nice.\",\n",
              " '',\n",
              " 'Unknown Speaker  2:27  ',\n",
              " \"There's obviously a number of different styles of driving, if you like, I tend to do a mix of sort of advanced but also eco driving as well. So to marry together quite nicely. I was trying to say here, get in position on the road. dotted lines, I will say is an indication of position rather than a rule unless it's a solid line.\",\n",
              " '',\n",
              " 'Unknown Speaker  3:15  ',\n",
              " \"Roundabouts up ahead, we are going to move forward and head towards the second exit. Dogs walking across and there's a person on the left hand side.\",\n",
              " '',\n",
              " 'Unknown Speaker  3:30  ',\n",
              " \"Coming up, most of the flow is left to right on this roundabout. So I know I'm going to be having it's harder for me to look for again this way. Just after the motorbikes looking like a reasonable gap and looking for any blockers in the left turn. So now I've got my opportunity 20 mile an hour say he's gonna hold off the speed. It's tempting to want to get going.  And it's going to move up to 30 very shortly.\",\n",
              " '',\n",
              " 'Unknown Speaker  4:05  ',\n",
              " \"I'm updating my mirrors quite frequently, just making sure what's going on.\",\n",
              " '',\n",
              " 'Unknown Speaker  4:12  ',\n",
              " \"I've got a pedestrian crossing,\",\n",
              " '',\n",
              " 'Unknown Speaker  4:15  ',\n",
              " \"scanning left and right. Not expecting to change there's quite a bit of traffic coming and we've got the cars moving in and out to the trading area. Bring the speed down. Again positioning I'm just coming over because of this blockage on that site. Give me as much free movement in general as possible. \",\n",
              " '',\n",
              " 'Unknown Speaker  4:48  ',\n",
              " \"So with the UK driving, the biggest use of your fuel is moving off from a stationary position. So if you can keep just gently rolling, it's always gonna save fuel. Whether that be with an ice or with electric \",\n",
              " '',\n",
              " 'Unknown Speaker  5:05  ',\n",
              " \"A little bit of restriction with the bus or whether white vans decide not going round who's got plenty of room? G\",\n",
              " '',\n",
              " 'Unknown Speaker  5:23  ',\n",
              " \"So in the zebra crossing. Yeah. Yeah, I saw the lady approaching and her body language showing she was walking towards the crossing. And so as soon as I saw that, that was a clue that she was likely to be crossing, she's gonna have priority. So I've got to be prepared to slow down and stop. And 70 here, I can see that person working towards the crossing, but they're too far back.\",\n",
              " '',\n",
              " 'Unknown Speaker  6:28  ',\n",
              " \"So a car is indicating right stopped in the sense that road I've got to slow down because I know the past can't get through. I'm trying to anticipate after the black car is probably where he's going to move. And this is another one coming, he's beginning to move now. Now the bus is going to get going but the bus may let the green vehicle out. I didn't overtake because I could say that there was a cor positioned to turn right. If I tried to go around the bus, I'd have been straight into the back of a vehicle that was already there. Now I can overtake because there's no blockages on my side. Moving back in, I've got choice lanes one or two, I'm probably going to go lane one because there's no great advantage to being an either. And this is a natural default position. Red light here. And the reason I'll go for natural defaults to the left lane apart from that the way the highway case says but this mirror is always going to be more in my vision than that one. So if I've got the majority of vehicles passing on this side, it's easier for me to monitor without being distracted, whereas I've got it, I've got to work a little harder to use my left door mirror. Moving off checking both door mirrors. Watching the vehicles move in why is his choice to move, he wants to take that position the blue cars beginning to drop behind me. So that was very easy to monitor in that mirror of being in left hand lane. We're now back to 20 zone. So just keeping a check on the speed. We have got some diversions in version thing that's going to worry me. We have got one vehicle approaching silvercar behind I can't see him coming around. So I had to stop because they would have priority from the right, letting it roll in and move. It's going to give me a smoother move off. If I didn't stop the car coming from the right. I might have got in front of him. But he probably would have had to brake. And then I'd have been getting altercation with somebody. So it was just recognising the priority. The white van's going to move out I've got priority over the roundabout even though the creeping forward. And this within the highway code. It never gives you right of way, which is a huge misconception for a lot of drivers. And it states that quite clearly never gives you right away. But what it does give you is priority. Okay, so I have to recognise those priorities nice and early to understand whether I'm likely to have to give away to someone or not. And our code also says you should always give way if it's going to prevent an accident. So it's very clear on that it's just not read at all or not understood for what it is. So here I've got blockage on both sides. I've got to make a decision in the red car. I took it slowly so the red car had chance to avoid a little bit. We both didn't neither of us had priority there. So we had to sorted out between ourselves. The bus now is indicating in the brake lights haven't come on. So I've got a chance to overtake. We've gone to 30 now just past the hospital.\",\n",
              " '',\n",
              " 'Unknown Speaker  10:00  ',\n",
              " \"When it looks like the white car isn't done like you're not trying to keep helping the white car, in some sense, you know, \",\n",
              " '',\n",
              " 'Unknown Speaker  10:05  ',\n",
              " \"I'm going with what I feel is an appropriate speed. The way we describe speed limits is that they are limits not targets. So I don't feel I have to get to 30 unless it's appropriate.\",\n",
              " '',\n",
              " 'Unknown Speaker  10:23  ',\n",
              " \"We've got red light, so I'm stopping early breaks coming on just to warn the vehicle behind me. My brake lights are a signal just as much as indicators are, people will react to them. This one's not reacting to the remote and checking my mirrors. Someone else's behind. \",\n",
              " '',\n",
              " 'Unknown Speaker  10:50  ',\n",
              " \"Technically beeping your horn is a warning of your presence and nothing else. But times when you have to let people know you're be hind them when you want to move. \",\n",
              " '',\n",
              " 'Unknown Speaker  11:02  ',\n",
              " \"Traffic lights coming around the corner. Again, I'm looking for brake lights, are they reacting to a red light, and they can see before I can, it is green, I've got someone at the crossing, so there's a good chance they've pressed the button.\",\n",
              " '',\n",
              " 'Unknown Speaker  11:17  ',\n",
              " \"And now we're coming through. So we had pressed is just going to be a cycle there sensors on the top there that are going to take a while before they decide when it's safe to change their mind sequence. So me spotting the difference between a pedestrian crossing and a set of traffic lights is important. Because I know that these lights up here as traffic lights will be on a set cycle, when it's pedestrian crossing that cyclists is started by someone pressing a button\",\n",
              " '',\n",
              " 'Unknown Speaker  11:52  ',\n",
              " 'is the lovely junction.',\n",
              " '',\n",
              " 'Unknown Speaker  11:56  ',\n",
              " \"So now I can see it's clear through there, this first few cars should be going and I've got enough time before the trucks also go through. So all clear red wire up ahead. So I'm going to stay off the gas, nothing behind me. So they're not expecting me to accelerate away. Lane 2 is the easiest path to come around that junction because everyone was stacking in lane two and throny. By coming into lane one, I actually had a much easier way around. And again, I'm coming back to this principle, my mirror is much easier to work out what the other cars are doing. If I'm a sandwich, I've got to be monitoring both sides and oncoming traffic. So I'm trying to drop my workload to make it safer and easier for myself. Moving on vehicles picking speeds picking up now we're in a nice free flowing road, that's a much better chance to decide actually, if they're not keeping up with the speed and I can overtake these vehicles, or if I want better vision or if it's getting punched. But you can see that because people tend to think slow, medium and fast. Rather than just lane One, two and three. They move there to go faster and then they get stuck behind the vehicles. We're all more or less travelling the same speed but I've got much more braking space than I have. I came off so much when that car turn left because he's a big vehicle and he's top heavy, he's going to have more wallowing as he takes a sharp turn. So he needs to slow down more to make that junction so different vehicles will turn at different speeds. Little sports car will pretty much stay on the same speed. Lower central balance we can even feel it in this car sometimes as we go around it's just leaning over a little bit I suppose it's time to check moving on. So green lights up had been green for a while. And this one I know we've got this little double junction so we've got some peering in and now I'm just waiting to see if that car is going to suddenly Chuck a signal on slow hard and turn into there to go from running into the car straight in front of us. I can see the red light up ahead so I'm anticipating the brakes from nothing on my lane too so if I can see that there's an easy lane to move into I can the white vans gonna move into that options now close to me.\",\n",
              " '',\n",
              " 'Unknown Speaker  14:35  ',\n",
              " 'Diversion signs up. ',\n",
              " '',\n",
              " 'Unknown Speaker  14:47  ',\n",
              " \"So roadworks obviously a big area of confusion. People don't always know that the road works and they're so they do the road that they know who or they're following us and it says go down that road. And then suddenly they got to change their mindset.\",\n",
              " '',\n",
              " 'Unknown Speaker  15:07  ',\n",
              " \"Another roundabout coming up again, we've got a petrol station. So there's an extra level of junction on that roundabout, we have got just the the natural four exits, we've got fit into. Red lights, lots of brake lights coming on, a cycle is pulled in behind me. So here, suddenly, no left turn, we may get people that are expecting to be able to left turn and then sort of slow and look and go calm, go there and move on.\",\n",
              " '',\n",
              " 'Unknown Speaker  15:47  ',\n",
              " \"And I can see that the traffic is stopped on the other side of the junction. So just because we got the green light doesn't mean we're shoes off. Now they're moving. So all the traffic is gonna flow through. We talk a lot in advance driving about limit points. So what's the limit of your vision, and that's where you want to be focusing scanning as far ahead as possible. So I'm looking at the up ramp onto the motorway. That all seems to be nice and clear. So by the time we get there, I know we're fine. But then I'm bringing my vision in again and pushing it as far out again. And I'm probably almost paying, paying almost as much attention to what's going on behind me. Oncoming vehicles, I'm not going to have to deal with five to 10 seconds, the car behind me could be following me for 15 minutes. Had a time to safely stop there. And because of the distance and the vehicle we had behind, it was a sensible decision. If you've been really close to me, I might push through the light just like the van because I've got to allow for his stopping.  Van's cut straight across in front of me. And the VW  behind me is thinking of doing the same thing. Now he's gonna strive. Pick up speed a little bit. So to default to the left lane.\",\n",
              " '',\n",
              " 'Unknown Speaker  17:19  ',\n",
              " \"Again, yeah, and this is all about angles of science and coming on by being more to the left, I've got easier on the mirror, but also, now my mirror is not much good for looking into that lane. But the longer I'm staying and more parallel and coming with it, the more that mirror is effective, you can do a blind spot check as well. We don't teach turning looking over anymore used to be taught that way. That mirror see flashes. Yeah, you've got that. But again, also within coming in, it's only until you got the right angle that the detector is picking up the right sort of information. And the problem with the blind spot check is because you're rotating you're late, you're taking folks off vehicles in front, if they start breaking, you could potentially stay on a motorway be accelerating into it.  Here again, push the vision down, we can see where everything's go, I can see from the street lighting that it's the striped bass then bending down to the left. So that's giving me a good line of where the road is going to be going. Same with you could do in the countryside with tree lines as well. Now we've got vehicles merging up. So we've certainly got a couple coming in. They've got their own lane, but I'm just watching for them to be moving across into my lane. The van didn't wait for me to go ahead because he's got his own lane. He doesn't have to merge into me on this one. And then I would like to get back into that lane one but I can let a lot of this traffic just sort itself out. Now it's a safe time to do it. And I'm not being impeded by anything up in front. I've got a vehicle trying to move out. One slowing he's going to use that now I've lifted off all the way through here because he may not pick up speed that quickly. And I'm waiting to see him moving away from me before I get back on the acceleration. Getting behind the truck lights and going green so I can just gently roll in. There's less traffic here, So again, it just gives me that nice gentle flow through. I've noticed the number plate on the vehicle in front. So it's not a UK plate Polish plate. So driver sat on the other side. So I've got to think about if I'm overtaking his blind spots and they are different. So I'm going to bring the speed up a little bit get ahead of the Luton and we're going to move across into lane two So particularly roads like the M25, and so on, you will get a lot of foreign vehicles coming off the ferries coming off the channel. So you've got to think about how you're positioning yourself in a mirror so they can see you. Particularly if they're trying to change their lane. I stopped because the bad drivers you say are very, very limited in their vision on those mirrors. It's not a fantastic system when you've got a big vehicle. Okay, I'm gonna move back into lane one. It's just looking like flying a little bit easier through here.\",\n",
              " '',\n",
              " 'Unknown Speaker  20:52  ',\n",
              " \"We've got some vehicles coming down the side round. Rather than space. These vehicles here, I'm just now opening up a little bit of space between me and the taxi, to give them to somewhere to slot in if they need to, if they're going straight on, so that wasn't required. So in dry weather, my ideal separation distance is about two seconds. If I know this vehicles moving in, then if I create a four second gap, they can slot in and everyone's automatically about their two seconds. Simply if I've got a vehicle that is driving very tight behind me to give him his two second cat, I will drop back for seconds to the vehicle in front. Now I can take twice as long on my braking, if I need to come to a quick stop, which allows him it's time I'm gonna move across the lane because these guys are just beginning to be a little bit slow for me. And I think it might be a little bit more progress in this line with the bands maybe in France. So you can see now this three cars are witt not really good separation distance. If that blue car front has to slam on the brakes, we've got two cars piling into each other, but I've got enough distance hopefully to stop and not be in it. Or because I'm checking update on my right hand side, I can move across the lane and avoid a potential pileup. \",\n",
              " '',\n",
              " 'Unknown Speaker  22:31  ',\n",
              " \"Something like two thirds of your speed is lost in the last 25% of the braking. It takes a long while for the thing to start stopping and when it does, then it stops eventually quite quickly. So I've just lifted off. So we've already dropped down to 30. So by the time I get to the safety side. Pretty much the speed limit. Sorry, I'm talking I'm just working back. We were getting partly away, we actually did come off there. I'll look around and come back down. I'd honestly just we can join out the next off ramp. Yeah, I can just up a parent's court, I can turn left and left and that'll just get back onto the road.\",\n",
              " '',\n",
              " 'Unknown Speaker  23:33  ',\n",
              " \"Just keeping my distance so that two second rule is good for most cars, something like this actually has got a lot more mass. So I might be thinking more of a three second gap between themselves and other vehicles. That will actually work where there are weather with ice and snow. back into lane again. Anything coming in there just has its own line. I know I'm safe and clear. I can see nicely into it. And we'll go left to the line so I can move.\",\n",
              " '',\n",
              " 'Unknown Speaker  24:16  ',\n",
              " \"Bring the speed down before the turn. So now I can get off road and make a u-turn . Speed bumps into this road 20 mile and as I say there's someone in the driver's side vehicle too. Turning in the road up ahead, so I'm just sort of holding back giving time to get it all finished. And then I can pick up speed again. Bikes, motorbike parked on the side, he's turning, so I'm going to slow he's going to have to go off to the second grade. Why do you go around this site? I could see but I'm quite a big vehicle. And by the time I've sort of gone in and gone out he's probably cleared anyway. So I'm just crazy. Have a lot of work for very difficult guy. Again, formula little sports car on idea. But this is just a little bit bigger, it's got to be a bit more cautious with it. Potentially, if the motorbike hadn't been parked on the left hand side, and I had to clear around it, I would have done that. But suddenly that that changes all my angles.\",\n",
              " '',\n",
              " 'Unknown Speaker  25:26  ',\n",
              " \"No need to signal because I can only turn left. Blue sign means I have to turn left I'm not allowed to turn right here.\",\n",
              " '',\n",
              " 'Unknown Speaker  25:40  ',\n",
              " \"So there is no choice where I'm going. So therefore the signal is irrelevant.\",\n",
              " '',\n",
              " 'Unknown Speaker  25:53  ',\n",
              " \"If I thought it clarified, if I thought there was someone who was confused about what I was doing, then there's no problem with signalling. Pedestrian here at this side, and the red ligh? three coming from that side looking around in case anyone else is going to make some last minute dashforward. \",\n",
              " '',\n",
              " 'Unknown Speaker  26:30  ',\n",
              " \"Light's changing so we can move on. Bus lane 7 to 7:47. So technically, I could use that bus lane but they've combed it off with all these bollard outside. They obviously don't want me to use it. So I won't.\",\n",
              " '',\n",
              " 'Unknown Speaker  26:57  ',\n",
              " \"I am slowing down because it's a 20 mile an hour zone. \",\n",
              " '',\n",
              " 'Unknown Speaker  27:07  ',\n",
              " \"It's frustrating 20 mile I've got to try and keep to speed.\",\n",
              " '',\n",
              " 'Unknown Speaker  27:18  ',\n",
              " \"It's surprisingly difficult because these guys do want to pick up speed. Here I'm slowing for the red light. It's just a nice gentle break. I've got the cyclist coming through on the inside. He's got his own lane, but I don't know where he's going to be when we get onto the broadway proper\",\n",
              " '',\n",
              " 'Unknown Speaker  27:42  ',\n",
              " \"Just come through that show he's actually going to stop for the red light.\",\n",
              " '',\n",
              " 'Unknown Speaker  27:51  ',\n",
              " \"I think that's his intention. \",\n",
              " '',\n",
              " 'Unknown Speaker  28:21  ',\n",
              " \"Nice is obviously an awful lot of buses over the other side. We've got the big bus station here so I can have buses moving out checking the whether these pedestrians going across. We're all good.\",\n",
              " '',\n",
              " 'Unknown Speaker  28:34  ',\n",
              " 'Going from the centerline, can either move over one night? This is gonna take me out again, put me into that left lane already. Down for the pass, ride.',\n",
              " '',\n",
              " 'Unknown Speaker  29:02  ',\n",
              " \"What's the challenge, coming up the inside or the outside the vehicle take your nice while I'm here. Looking into that mirror. He's gonna have to come in front of the box or clear down into this road buses pulling out. I can leave a little bit wider now. Just because I want to see what's going on around pass the bus. I've got a bike coming around on the right hand side. And also if the bus stopped again, maybe passenger hasn't gone off on the ship. I'm now in a position c round that can get passed. With another bike from a right hand side. There's trains crossing.\",\n",
              " '',\n",
              " 'Unknown Speaker  29:45  ',\n",
              " \"Traffic queuing up ahead. Just holding back a little bit. people stop and start and stop and start I can smooth that out a little bit. And I'm just kind of judging this flow of traffic, not from the bus, but from the four cars in front of me. So I'm looking over the rooms, these two around that corner to see what's going on there, we can see that they're flowing. The buses is gonna take a little bit longer to accelerate.\",\n",
              " '',\n",
              " 'Unknown Speaker  30:27  ',\n",
              " 'mass. Stop',\n",
              " '',\n",
              " 'Unknown Speaker  30:28  ',\n",
              " \"And the red light, we've got someone jumping in and cars just by the hospital.\",\n",
              " '',\n",
              " 'Unknown Speaker  30:38  ',\n",
              " \"I came here I'm just positioning a little bit to the right. And now I've got vision down the road, if I stay directly behind the bus, I can't see what's going on. And that's going to restrict my plan. I didn't go round the bus because there's a vehicle in front of me. We've also got this other vehicle turning right. So where would I have ended up I'd have been out with the bus now coming, on my inside, and I'm going to get back in again. Now we can be thinking about overtaking the bus, it's clear in front of it, I'm going to try and position to encourage people to give me the space to go through. This one's turning rights and I'm going to position two. I've also got to assume that people aren't going to be as generous as other drivers if they're coming towards me that they're always going to give me the space. If they've got the priority, all I can do is sort of position myself to request the space and try and see if I get that response back there. Yeah, okay, we'll let you come through. \",\n",
              " '',\n",
              " 'Unknown Speaker  31:50  ',\n",
              " 'And it does seem very much for me that if you kind of request a space rather than demand it people are much more willing to give you that space and help you so it makes them more comfortable driving, more relaxed, less invasive. So a couple of bikes ones coming through from the inside now. The other ones decided to follow suit.',\n",
              " '',\n",
              " 'Unknown Speaker  32:41  ',\n",
              " \"Yeah, I mean, if that bike starts claiming getting a bit closer to me, then I'll move over to the left to give him space to overtake. There's less debris in the middle of the road, you tend to get a better surface, we're eliminating a little bit of the camber as well. Trains you get a standard water rubbish. And we've the light there.\",\n",
              " '',\n",
              " 'Unknown Speaker  33:10  ',\n",
              " \"Similarly with the cyclists, you can see he's staying away from the curb because he's got the better road surface. Now I'm on the bend here, so I'm going to move out a little bit early but not quick myself for the overtakes I've got the bus and the ball odds and there's a lot going on there. And I've got another bus on the other side and the truck coming she sees you to hold back let the cyclists take these positions. The buses moving out now\",\n",
              " '',\n",
              " 'Unknown Speaker  33:36  ',\n",
              " \" Car sticking out far more than it should do so I'm just going to move out a little bit now the bus is indicating so he's going around a block of shots here moving around the cyclist. So cyclists moving different speeds and we've got a car coming up it's gonna hold back seat he's gonna go to the overtaking is. Now the bus is pulling in now I can oveertake, moving on. We've got space to cover. I have no problem with cyclists but we have to share roads. I can move on the left lane but it's not active at the moment. There's no big advantage to me and technically I would if I was instructing a learner I would be expecting them to move into that lane and use it as an advanced drive with a little bit more fluid. You know, because we know the road, you've got to kind of have to have a very good working knowledge of the rules before we can start tweaking them a little bit. If there was traffic building up in this lane, I would probably be using it a bit more as the head of absolutely empty road. It made no difference to anyone else. So that was the best position for coming up to the next round about thinking long term having made more sense this junction is nice and clear for me, bus on the left hand side has its own lights changing to red.\",\n",
              " '',\n",
              " 'Unknown Speaker  35:35  ',\n",
              " \"So I'm just very lightly touching the brakes, just trying to bring the bright lights on for the car behind me. And again, I'm staying over in this lane because I'm already aware of on my routine that I'm going to be turning right as we get\",\n",
              " '',\n",
              " 'Unknown Speaker  36:00  ',\n",
              " \"over the bridge. So rather than try and get in traffic and then move out, I've just already positioned myself exactly where I need to be. So minimising my workload, red light for our right turn. I'm making the decision I don't really need to signal on this one I could do but again this lane is right turn only if I thought it was confusing for drivers behind him I have a signal on. I'm just at the limit whether I think I'm gonna make it on this cycle on the lights as well as quite a few cars going through, sort of holding off. Yes, through a slightly wider line and cutting in tight, opens my vision into the road.\",\n",
              " '',\n",
              " 'Unknown Speaker  36:54  ',\n",
              " 'Faster',\n",
              " '',\n",
              " 'Unknown Speaker  36:56  ',\n",
              " 'Patient across the other side of the road. Little bit more central on my positioning. Here if there are incoming vehicles, I can always pull my line in tight into the curve',\n",
              " '',\n",
              " 'Unknown Speaker  37:17  ',\n",
              " \"it's much easier to cut back into that line if I'm already tied to the curb, my tendency is going to be to swing wide\",\n",
              " '',\n",
              " 'Unknown Speaker  37:26  ',\n",
              " \"so it's almost counterintuitive. But when I position so I can see better. It also makes me more visible to other the oncoming vehicles earlier. So it has that double benefit. Why are you leaving this stuff in this\",\n",
              " '',\n",
              " 'Unknown Speaker  37:50  ',\n",
              " \"Because anything can happen in environment like this, if he slams on the brakes, I got plenty of time just to come to a nice gentle stop with no drama. I'm going the same speed as him. I'm just three four metres further back. So it's not going to make any difference to my overall journey time. Being See here, I didn't have to stop I could just very gently slow down DPT, I again, I'm going to just position myself wide encourage him to give me a bit of space which they have done. There is room if I didn't think there was room for both, I would have stopped and just push it out a little bit more sense of bright lights flickering on their car in front. There were quite a few cycles, these cars were coming out to the Centre for the BMW tends to tap his brakes quite a lot. He's turning so I'm just going to slow the brake\",\n",
              " '',\n",
              " 'Unknown Speaker  38:49  ',\n",
              " \"Also, when going back to your previous question about why do I slow when I know he is turning because I can't see into that road. So if it's not clear he actually might stand still with his back hanging out on the road. And I need to have time to be able to come to a full stop if I need to. cyclist up ahead. No entry on the left hand side. We have vehicles coming out of it from the right. It's going to force oncoming vehicles out therefore.\",\n",
              " '',\n",
              " 'Unknown Speaker  39:37  ',\n",
              " \"So we've got the little mini roundabout speed bumps. It's quite a lot going on and we've got exit coming in from our right entrance coming from right that's all looking clear. So five, three pedestrians will need to cross and I've got no vision here. So there's absolutely Point.There is also a road, just on the other side of the bridge. So what I don't want to be doing is thinking it's clear ahead, I'm overtaking someone's pulling out of that, if it's blind for me, it's blind for them as well.\",\n",
              " '',\n",
              " 'Unknown Speaker  40:19  ',\n",
              " \"Okay, he's gonna pick up a little bit of speed. Now, we've got Park cars, we've got a pedestrian. So I'm just gonna take that central position nice and early, makes it very clear to the oncoming cyclists. He can now judge where he needs to be. So we can all pass nice and easily. I'm not suddenly last minute swerving out into this funny little loop to negotiate. I can't get fully into the right lane because of the queue of cars. I'm going to stay in this lane. That would be my preferred line, it gives me an easier exit. But I think we can all go around and then I'll go straight on the line. So we've been turned out this was a left turn only, then I'd have had to move across but it's not marked that way. And then I would have been working on my signals to try and get across. But that's what I've got to watch out for. And again, that we're now I can see there's no one else moving into. Actually, I can now move back into that lane too. What are the short lines on the right lane. They short lines, they are gradient lines for speed cameras and traffic light cameras. So they can take two photographs because they know the distance they can calculate speed, you're actually travelling at. And if you've missed the speed camera, it's a good warning for you to lift off a little bit, which don't hit the brakes too hard. Okay, they're all turning, we've got the cyclists moving on, overtake the cyclists. And then I can overtake both. That cyclists give me enough room there. We're coming to a stop anyway. So which is a bright green light up ahead. But it does tend to get a little bit busy around here. \",\n",
              " '',\n",
              " 'Unknown Speaker  42:39  ',\n",
              " 'Moving back into lane one, double mirror check.',\n",
              " '',\n",
              " 'Unknown Speaker  42:48  ',\n",
              " \"Sorry, because I've just caught three axes clear, there shouldn't be too much traffic, so I'm fine to move back across. And I'll always have that checked before merge.\",\n",
              " '',\n",
              " 'Unknown Speaker  43:03  ',\n",
              " \"So just coming up to that and kicking out of school time. In more normal times, I know the traffic is going to get much heavier at this point with all parents come in to pick up their kids from school. And there's going to be a lot of trying to stop near this school as possible. So people will be parking in odd places. Because they're only going to be there for a couple of minutes. They think Half an hour later.\",\n",
              " '',\n",
              " 'Unknown Speaker  43:42  ',\n",
              " \" Just moving slightly to the centre so I can try and see past the truck and see what the traffic is doing. And in fact, it looks like it's running all the way through Shane. So I can drop back into line I know there's not going to be a sudden. I've got a good idea of what is going to be happening for the next few minutes.\",\n",
              " '',\n",
              " 'Unknown Speaker  44:05  ',\n",
              " \"Because it's pretty much going to be START STOP start stop. I can let my gap build up a little bit more. So I'm going to eliminate some of the breaking I need to do, hopefully\",\n",
              " '',\n",
              " 'Unknown Speaker  44:21  ',\n",
              " \"Just depends how long they stop, I need the brake on. But I can see now it's all the way up so it is put in here. Pretty stationary. \",\n",
              " '',\n",
              " 'Unknown Speaker  44:37  ',\n",
              " \"In fact now I'm not going to use the gas at all I'm just gonna let the car drive by itself. All I'm doing is just using a little bit of brake. People don't often realise that works in a manual as well. \",\n",
              " '',\n",
              " 'Unknown Speaker  45:19  ',\n",
              " \"See everyone's trying to squeeze around the bus. \",\n",
              " '',\n",
              " 'Unknown Speaker  45:38  ',\n",
              " \"First time in a while I've touched the brake. \",\n",
              " '',\n",
              " 'Unknown Speaker  45:55  ',\n",
              " \"It's jsut the car driving itself, I'm not doing anything with the pedals at all.\",\n",
              " '',\n",
              " 'Unknown Speaker  46:15  ',\n",
              " \"So let's say it was desperate to get around that axis swing round rather than just waiting and haven't actually achieved anything at all.\",\n",
              " '',\n",
              " 'Unknown Speaker  46:23  ',\n",
              " \"Side cross's looking clear and a red light up ahead.\",\n",
              " '',\n",
              " 'Unknown Speaker  47:08  ',\n",
              " ' On the safe side striking person on the right with dogs on fairly long leachs.',\n",
              " '',\n",
              " 'Unknown Speaker  47:29  ',\n",
              " \"Last November, Iwas conducting a lesson with the learner dog did run straight out at us.  The dog just leaped out and ran across the road. We have to slam the brakes on we did hit it unfortunately, the dog was fined $400 worth of damage to the car and a very shaky Alright, so again, we've got pedestrian crossing, I'm sure they've pressed the button. So we're just going to change and we want three full bright lights coming up\",\n",
              " '',\n",
              " 'Unknown Speaker  48:15  ',\n",
              " \"then back off a little bit. And because I know this road, I know that little while if I can get to lane one, most of this traffic is going to be queuing to turn right further down the road. So lane one will be open and I could just pass on through. how far ahead is that? Sort of as we get up to the just past the crossing, you can sort of see the road opens up quite often we have a lot of parked vehicles here. So how do you know this is a lane. If that makes sense. I can just sit well there's enough room for me to pass through safely. It's not marked as a lane. A lot of that though, is local knowledge that I know that this is now marked as two lanes\",\n",
              " '',\n",
              " 'Unknown Speaker  49:17  ',\n",
              " \"very easily you could be sitting in traffic wanting to go ahead. Okay with a blue van, not brilliant parking, so I'm just gonna move out. I have got space enough for me rigth now.  The other thing about doing that early. If I realised that that space is not going to be there, I've still got time to pull back in. So I don't want to be sort of caught out with nowhere to go, I'm still leaving options for myself.\",\n",
              " '',\n",
              " 'Unknown Speaker  49:56  ',\n",
              " 'Red light up ahead',\n",
              " '',\n",
              " 'Unknown Speaker  50:00  ',\n",
              " 'They are precise with their cycling here',\n",
              " '',\n",
              " 'Unknown Speaker  50:11  ',\n",
              " 'just gonna lift off',\n",
              " '',\n",
              " 'Unknown Speaker  50:13  ',\n",
              " 'plenty of space between me and the car behind for them to react',\n",
              " '',\n",
              " 'Unknown Speaker  50:27  ',\n",
              " 'one of the primary schools just around here is where Tim berners Lee went',\n",
              " '',\n",
              " 'Unknown Speaker  50:42  ',\n",
              " \"so how come you're give him a space with the car apart? It's 20 mile an hour zone I'm doing 20\",\n",
              " '',\n",
              " 'Unknown Speaker  50:49  ',\n",
              " \"I'd love to be doing 30, but I'm trying to keep it legal as you can see with the lights, we actually all arrive at the same time. category and am I move ahead of it this time so he's not indicating so I'm assuming he's going straight on.\",\n",
              " '',\n",
              " 'Unknown Speaker  51:25  ',\n",
              " \"I'm gonna have to contend with the red van a little bit further up, but because he was moving faster, I'm assuming he's gonna just pick up there's no anyone behind him. Once he's gone past the rain. Cyclist on the left coming through I've got another vehicle coming behind me this one but they are indicating right. So I'm just looking for exercise I have a bit why didn't you? Why didn't I want fries and\",\n",
              " '',\n",
              " 'Transcribed by https://otter.ai',\n",
              " '']"
            ]
          },
          "metadata": {},
          "execution_count": 2
        }
      ]
    },
    {
      "cell_type": "code",
      "metadata": {
        "colab": {
          "base_uri": "https://localhost:8080/",
          "height": 35
        },
        "id": "dVAscwzZxp43",
        "outputId": "c0a22c44-7b12-4651-b2d2-6b2b811462db"
      },
      "source": [
        "data[34]"
      ],
      "execution_count": 3,
      "outputs": [
        {
          "output_type": "execute_result",
          "data": {
            "application/vnd.google.colaboratory.intrinsic+json": {
              "type": "string"
            },
            "text/plain": [
              "\"A little bit of restriction with the bus or whether white vans decide not going round who's got plenty of room? G\""
            ]
          },
          "metadata": {},
          "execution_count": 3
        }
      ]
    },
    {
      "cell_type": "code",
      "metadata": {
        "id": "sSV4Wiq9xQzk"
      },
      "source": [
        "id = []\n",
        "text = []\n",
        "for i in range(len(data)):\n",
        "  if (i % 3 == 0):\n",
        "    id.append(data[i])\n",
        "  elif (i % 3 == 1):\n",
        "    text.append(data[i])"
      ],
      "execution_count": 4,
      "outputs": []
    },
    {
      "cell_type": "code",
      "metadata": {
        "colab": {
          "base_uri": "https://localhost:8080/"
        },
        "id": "aScIGXuHyYJT",
        "outputId": "bfe15b40-2bed-4570-9259-bb653c9cb038"
      },
      "source": [
        "len(id),len(text)"
      ],
      "execution_count": 5,
      "outputs": [
        {
          "output_type": "execute_result",
          "data": {
            "text/plain": [
              "(86, 86)"
            ]
          },
          "metadata": {},
          "execution_count": 5
        }
      ]
    },
    {
      "cell_type": "code",
      "metadata": {
        "id": "xVdXEAu6yeCj"
      },
      "source": [
        "d = {'id': id, 'text': text}\n",
        "df = pd.DataFrame(data=d)\n",
        "df.drop(index = 85, inplace = True)"
      ],
      "execution_count": 13,
      "outputs": []
    },
    {
      "cell_type": "code",
      "metadata": {
        "colab": {
          "base_uri": "https://localhost:8080/",
          "height": 419
        },
        "id": "fKbuLvleyoOm",
        "outputId": "a9788870-f909-4ca5-c575-52229c61db67"
      },
      "source": [
        "df"
      ],
      "execution_count": 14,
      "outputs": [
        {
          "output_type": "execute_result",
          "data": {
            "text/html": [
              "<div>\n",
              "<style scoped>\n",
              "    .dataframe tbody tr th:only-of-type {\n",
              "        vertical-align: middle;\n",
              "    }\n",
              "\n",
              "    .dataframe tbody tr th {\n",
              "        vertical-align: top;\n",
              "    }\n",
              "\n",
              "    .dataframe thead th {\n",
              "        text-align: right;\n",
              "    }\n",
              "</style>\n",
              "<table border=\"1\" class=\"dataframe\">\n",
              "  <thead>\n",
              "    <tr style=\"text-align: right;\">\n",
              "      <th></th>\n",
              "      <th>id</th>\n",
              "      <th>text</th>\n",
              "    </tr>\n",
              "  </thead>\n",
              "  <tbody>\n",
              "    <tr>\n",
              "      <th>0</th>\n",
              "      <td>Unknown Speaker  1:27</td>\n",
              "      <td>We are pushing forward.</td>\n",
              "    </tr>\n",
              "    <tr>\n",
              "      <th>1</th>\n",
              "      <td>Unknown Speaker  1:32</td>\n",
              "      <td>Checking and seems all side clear. Coming out ...</td>\n",
              "    </tr>\n",
              "    <tr>\n",
              "      <th>2</th>\n",
              "      <td>Unknown Speaker  1:45</td>\n",
              "      <td>Crossing, just seeing if pedestrians are walki...</td>\n",
              "    </tr>\n",
              "    <tr>\n",
              "      <th>3</th>\n",
              "      <td>Unknown Speaker  2:09</td>\n",
              "      <td>So I'm going to be turning left here. So I'm a...</td>\n",
              "    </tr>\n",
              "    <tr>\n",
              "      <th>4</th>\n",
              "      <td>Unknown Speaker  2:27</td>\n",
              "      <td>There's obviously a number of different styles...</td>\n",
              "    </tr>\n",
              "    <tr>\n",
              "      <th>...</th>\n",
              "      <td>...</td>\n",
              "      <td>...</td>\n",
              "    </tr>\n",
              "    <tr>\n",
              "      <th>80</th>\n",
              "      <td>Unknown Speaker  50:13</td>\n",
              "      <td>plenty of space between me and the car behind ...</td>\n",
              "    </tr>\n",
              "    <tr>\n",
              "      <th>81</th>\n",
              "      <td>Unknown Speaker  50:27</td>\n",
              "      <td>one of the primary schools just around here is...</td>\n",
              "    </tr>\n",
              "    <tr>\n",
              "      <th>82</th>\n",
              "      <td>Unknown Speaker  50:42</td>\n",
              "      <td>so how come you're give him a space with the c...</td>\n",
              "    </tr>\n",
              "    <tr>\n",
              "      <th>83</th>\n",
              "      <td>Unknown Speaker  50:49</td>\n",
              "      <td>I'd love to be doing 30, but I'm trying to kee...</td>\n",
              "    </tr>\n",
              "    <tr>\n",
              "      <th>84</th>\n",
              "      <td>Unknown Speaker  51:25</td>\n",
              "      <td>I'm gonna have to contend with the red van a l...</td>\n",
              "    </tr>\n",
              "  </tbody>\n",
              "</table>\n",
              "<p>85 rows × 2 columns</p>\n",
              "</div>"
            ],
            "text/plain": [
              "                          id                                               text\n",
              "0    Unknown Speaker  1:27                              We are pushing forward.\n",
              "1    Unknown Speaker  1:32    Checking and seems all side clear. Coming out ...\n",
              "2    Unknown Speaker  1:45    Crossing, just seeing if pedestrians are walki...\n",
              "3    Unknown Speaker  2:09    So I'm going to be turning left here. So I'm a...\n",
              "4    Unknown Speaker  2:27    There's obviously a number of different styles...\n",
              "..                       ...                                                ...\n",
              "80  Unknown Speaker  50:13    plenty of space between me and the car behind ...\n",
              "81  Unknown Speaker  50:27    one of the primary schools just around here is...\n",
              "82  Unknown Speaker  50:42    so how come you're give him a space with the c...\n",
              "83  Unknown Speaker  50:49    I'd love to be doing 30, but I'm trying to kee...\n",
              "84  Unknown Speaker  51:25    I'm gonna have to contend with the red van a l...\n",
              "\n",
              "[85 rows x 2 columns]"
            ]
          },
          "metadata": {},
          "execution_count": 14
        }
      ]
    },
    {
      "cell_type": "code",
      "metadata": {
        "id": "Eg36rAHRywC2"
      },
      "source": [
        "# import spacy\n",
        "# from spacy import displacy\n",
        "\n",
        "# NER = spacy.load(\"en_core_web_sm\")\n",
        "# text1= NER(text[6])\n",
        "\n",
        "# for i in text:\n",
        "#   for word in NER(i).ents:\n",
        "#     print(word.text,word.label_)"
      ],
      "execution_count": 15,
      "outputs": []
    },
    {
      "cell_type": "code",
      "metadata": {
        "id": "_z68560MzwrM"
      },
      "source": [
        "\n"
      ],
      "execution_count": 15,
      "outputs": []
    },
    {
      "cell_type": "code",
      "metadata": {
        "id": "mS4HzvLIkyob"
      },
      "source": [
        "import re\n",
        "\n",
        "def split_it(text):\n",
        "    return re.sub(\"(@[A-Za-z0-9]+)|([^0-9A-Za-z \\t])|(\\w+:\\/\\/\\S+)\", \" \", text)\n",
        "df['text'] = df['text'].apply(lambda x: split_it(x))\n",
        "df['text'] = df['text'].apply(lambda x: x.replace('RT',''))"
      ],
      "execution_count": 16,
      "outputs": []
    },
    {
      "cell_type": "code",
      "metadata": {
        "colab": {
          "base_uri": "https://localhost:8080/",
          "height": 419
        },
        "id": "AVRfwqaF0BSr",
        "outputId": "22c5443b-adc1-4d30-9759-20fa66451e4d"
      },
      "source": [
        "df"
      ],
      "execution_count": 17,
      "outputs": [
        {
          "output_type": "execute_result",
          "data": {
            "text/html": [
              "<div>\n",
              "<style scoped>\n",
              "    .dataframe tbody tr th:only-of-type {\n",
              "        vertical-align: middle;\n",
              "    }\n",
              "\n",
              "    .dataframe tbody tr th {\n",
              "        vertical-align: top;\n",
              "    }\n",
              "\n",
              "    .dataframe thead th {\n",
              "        text-align: right;\n",
              "    }\n",
              "</style>\n",
              "<table border=\"1\" class=\"dataframe\">\n",
              "  <thead>\n",
              "    <tr style=\"text-align: right;\">\n",
              "      <th></th>\n",
              "      <th>id</th>\n",
              "      <th>text</th>\n",
              "    </tr>\n",
              "  </thead>\n",
              "  <tbody>\n",
              "    <tr>\n",
              "      <th>0</th>\n",
              "      <td>Unknown Speaker  1:27</td>\n",
              "      <td>We are pushing forward</td>\n",
              "    </tr>\n",
              "    <tr>\n",
              "      <th>1</th>\n",
              "      <td>Unknown Speaker  1:32</td>\n",
              "      <td>Checking and seems all side clear  Coming out ...</td>\n",
              "    </tr>\n",
              "    <tr>\n",
              "      <th>2</th>\n",
              "      <td>Unknown Speaker  1:45</td>\n",
              "      <td>Crossing  just seeing if pedestrians are walki...</td>\n",
              "    </tr>\n",
              "    <tr>\n",
              "      <th>3</th>\n",
              "      <td>Unknown Speaker  2:09</td>\n",
              "      <td>So I m going to be turning left here  So I m a...</td>\n",
              "    </tr>\n",
              "    <tr>\n",
              "      <th>4</th>\n",
              "      <td>Unknown Speaker  2:27</td>\n",
              "      <td>There s obviously a number of different styles...</td>\n",
              "    </tr>\n",
              "    <tr>\n",
              "      <th>...</th>\n",
              "      <td>...</td>\n",
              "      <td>...</td>\n",
              "    </tr>\n",
              "    <tr>\n",
              "      <th>80</th>\n",
              "      <td>Unknown Speaker  50:13</td>\n",
              "      <td>plenty of space between me and the car behind ...</td>\n",
              "    </tr>\n",
              "    <tr>\n",
              "      <th>81</th>\n",
              "      <td>Unknown Speaker  50:27</td>\n",
              "      <td>one of the primary schools just around here is...</td>\n",
              "    </tr>\n",
              "    <tr>\n",
              "      <th>82</th>\n",
              "      <td>Unknown Speaker  50:42</td>\n",
              "      <td>so how come you re give him a space with the c...</td>\n",
              "    </tr>\n",
              "    <tr>\n",
              "      <th>83</th>\n",
              "      <td>Unknown Speaker  50:49</td>\n",
              "      <td>I d love to be doing 30  but I m trying to kee...</td>\n",
              "    </tr>\n",
              "    <tr>\n",
              "      <th>84</th>\n",
              "      <td>Unknown Speaker  51:25</td>\n",
              "      <td>I m gonna have to contend with the red van a l...</td>\n",
              "    </tr>\n",
              "  </tbody>\n",
              "</table>\n",
              "<p>85 rows × 2 columns</p>\n",
              "</div>"
            ],
            "text/plain": [
              "                          id                                               text\n",
              "0    Unknown Speaker  1:27                              We are pushing forward \n",
              "1    Unknown Speaker  1:32    Checking and seems all side clear  Coming out ...\n",
              "2    Unknown Speaker  1:45    Crossing  just seeing if pedestrians are walki...\n",
              "3    Unknown Speaker  2:09    So I m going to be turning left here  So I m a...\n",
              "4    Unknown Speaker  2:27    There s obviously a number of different styles...\n",
              "..                       ...                                                ...\n",
              "80  Unknown Speaker  50:13    plenty of space between me and the car behind ...\n",
              "81  Unknown Speaker  50:27    one of the primary schools just around here is...\n",
              "82  Unknown Speaker  50:42    so how come you re give him a space with the c...\n",
              "83  Unknown Speaker  50:49    I d love to be doing 30  but I m trying to kee...\n",
              "84  Unknown Speaker  51:25    I m gonna have to contend with the red van a l...\n",
              "\n",
              "[85 rows x 2 columns]"
            ]
          },
          "metadata": {},
          "execution_count": 17
        }
      ]
    },
    {
      "cell_type": "code",
      "metadata": {
        "colab": {
          "base_uri": "https://localhost:8080/"
        },
        "id": "vTxC0_AbBf53",
        "outputId": "294a4532-cae7-4a5a-bd3c-6bb5cfff266e"
      },
      "source": [
        "import nltk\n",
        "nltk.download('stopwords')\n",
        "\n",
        "df['text'] = df['text'].str.replace('[^\\w\\s]','')\n",
        "df['text'] = df['text'].apply(lambda x: x.lower())\n",
        "from nltk.corpus import stopwords\n",
        "stop = stopwords.words('english')\n",
        "df['text'] = df['text'].apply(lambda x: \" \".join(x for x in x.split() if x not in stop))"
      ],
      "execution_count": 21,
      "outputs": [
        {
          "output_type": "stream",
          "text": [
            "[nltk_data] Downloading package stopwords to /root/nltk_data...\n",
            "[nltk_data]   Package stopwords is already up-to-date!\n"
          ],
          "name": "stdout"
        }
      ]
    },
    {
      "cell_type": "code",
      "metadata": {
        "colab": {
          "base_uri": "https://localhost:8080/",
          "height": 419
        },
        "id": "_mfaQHBQB3-C",
        "outputId": "5526b819-e596-4399-ca50-0c4d98e1bf42"
      },
      "source": [
        "df"
      ],
      "execution_count": 22,
      "outputs": [
        {
          "output_type": "execute_result",
          "data": {
            "text/html": [
              "<div>\n",
              "<style scoped>\n",
              "    .dataframe tbody tr th:only-of-type {\n",
              "        vertical-align: middle;\n",
              "    }\n",
              "\n",
              "    .dataframe tbody tr th {\n",
              "        vertical-align: top;\n",
              "    }\n",
              "\n",
              "    .dataframe thead th {\n",
              "        text-align: right;\n",
              "    }\n",
              "</style>\n",
              "<table border=\"1\" class=\"dataframe\">\n",
              "  <thead>\n",
              "    <tr style=\"text-align: right;\">\n",
              "      <th></th>\n",
              "      <th>id</th>\n",
              "      <th>text</th>\n",
              "    </tr>\n",
              "  </thead>\n",
              "  <tbody>\n",
              "    <tr>\n",
              "      <th>0</th>\n",
              "      <td>Unknown Speaker  1:27</td>\n",
              "      <td>pushing forward</td>\n",
              "    </tr>\n",
              "    <tr>\n",
              "      <th>1</th>\n",
              "      <td>Unknown Speaker  1:32</td>\n",
              "      <td>checking seems side clear coming wide going ta...</td>\n",
              "    </tr>\n",
              "    <tr>\n",
              "      <th>2</th>\n",
              "      <td>Unknown Speaker  1:45</td>\n",
              "      <td>crossing seeing pedestrians walking towards gi...</td>\n",
              "    </tr>\n",
              "    <tr>\n",
              "      <th>3</th>\n",
              "      <td>Unknown Speaker  2:09</td>\n",
              "      <td>going turning left already sort keeping bit sp...</td>\n",
              "    </tr>\n",
              "    <tr>\n",
              "      <th>4</th>\n",
              "      <td>Unknown Speaker  2:27</td>\n",
              "      <td>obviously number different styles driving like...</td>\n",
              "    </tr>\n",
              "    <tr>\n",
              "      <th>...</th>\n",
              "      <td>...</td>\n",
              "      <td>...</td>\n",
              "    </tr>\n",
              "    <tr>\n",
              "      <th>80</th>\n",
              "      <td>Unknown Speaker  50:13</td>\n",
              "      <td>plenty space car behind react</td>\n",
              "    </tr>\n",
              "    <tr>\n",
              "      <th>81</th>\n",
              "      <td>Unknown Speaker  50:27</td>\n",
              "      <td>one primary schools around tim berners lee went</td>\n",
              "    </tr>\n",
              "    <tr>\n",
              "      <th>82</th>\n",
              "      <td>Unknown Speaker  50:42</td>\n",
              "      <td>come give space car apart 20 mile hour zone 20</td>\n",
              "    </tr>\n",
              "    <tr>\n",
              "      <th>83</th>\n",
              "      <td>Unknown Speaker  50:49</td>\n",
              "      <td>love 30 trying keep legal see lights actually ...</td>\n",
              "    </tr>\n",
              "    <tr>\n",
              "      <th>84</th>\n",
              "      <td>Unknown Speaker  51:25</td>\n",
              "      <td>gonna contend red van little bit moving faster...</td>\n",
              "    </tr>\n",
              "  </tbody>\n",
              "</table>\n",
              "<p>85 rows × 2 columns</p>\n",
              "</div>"
            ],
            "text/plain": [
              "                          id                                               text\n",
              "0    Unknown Speaker  1:27                                      pushing forward\n",
              "1    Unknown Speaker  1:32    checking seems side clear coming wide going ta...\n",
              "2    Unknown Speaker  1:45    crossing seeing pedestrians walking towards gi...\n",
              "3    Unknown Speaker  2:09    going turning left already sort keeping bit sp...\n",
              "4    Unknown Speaker  2:27    obviously number different styles driving like...\n",
              "..                       ...                                                ...\n",
              "80  Unknown Speaker  50:13                        plenty space car behind react\n",
              "81  Unknown Speaker  50:27      one primary schools around tim berners lee went\n",
              "82  Unknown Speaker  50:42       come give space car apart 20 mile hour zone 20\n",
              "83  Unknown Speaker  50:49    love 30 trying keep legal see lights actually ...\n",
              "84  Unknown Speaker  51:25    gonna contend red van little bit moving faster...\n",
              "\n",
              "[85 rows x 2 columns]"
            ]
          },
          "metadata": {},
          "execution_count": 22
        }
      ]
    },
    {
      "cell_type": "code",
      "metadata": {
        "id": "vbAR8Zm_B_IK"
      },
      "source": [
        "from sklearn.feature_extraction.text import CountVectorizer\n",
        "vectorizer = CountVectorizer(min_df=5)\n",
        "data_text = vectorizer.fit_transform(df['text'])\n",
        "df1 = pd.DataFrame(data_text.toarray())"
      ],
      "execution_count": 42,
      "outputs": []
    },
    {
      "cell_type": "code",
      "metadata": {
        "id": "qA8Ml5nGCmFf"
      },
      "source": [
        "X = df1.copy()"
      ],
      "execution_count": 43,
      "outputs": []
    },
    {
      "cell_type": "code",
      "metadata": {
        "id": "rfs4mE0sCqmB"
      },
      "source": [
        "from sklearn.cluster import KMeans\n",
        "kmeans = KMeans(n_clusters=4, random_state=0).fit(X)"
      ],
      "execution_count": 47,
      "outputs": []
    },
    {
      "cell_type": "code",
      "metadata": {
        "colab": {
          "base_uri": "https://localhost:8080/"
        },
        "id": "P8EaOzUwDP8K",
        "outputId": "aedab84b-3ff2-4049-dc05-1c6a74ed9cfa"
      },
      "source": [
        "kmeans.labels_"
      ],
      "execution_count": 48,
      "outputs": [
        {
          "output_type": "execute_result",
          "data": {
            "text/plain": [
              "array([1, 1, 1, 1, 1, 1, 1, 1, 1, 1, 1, 1, 1, 2, 1, 1, 1, 1, 1, 1, 1, 3,\n",
              "       1, 1, 1, 0, 2, 0, 1, 1, 0, 1, 1, 1, 1, 1, 1, 1, 1, 1, 1, 1, 1, 1,\n",
              "       1, 1, 0, 1, 1, 1, 0, 1, 1, 1, 1, 1, 1, 0, 1, 1, 0, 1, 1, 1, 1, 1,\n",
              "       1, 1, 1, 1, 1, 1, 1, 1, 1, 0, 1, 1, 1, 1, 1, 1, 1, 1, 1],\n",
              "      dtype=int32)"
            ]
          },
          "metadata": {},
          "execution_count": 48
        }
      ]
    },
    {
      "cell_type": "code",
      "metadata": {
        "id": "9iFs4v2oDT00"
      },
      "source": [
        "df['target'] = kmeans.labels_"
      ],
      "execution_count": 49,
      "outputs": []
    },
    {
      "cell_type": "code",
      "metadata": {
        "colab": {
          "base_uri": "https://localhost:8080/",
          "height": 419
        },
        "id": "bYK91JmFDcC8",
        "outputId": "3c4fadbc-4991-4695-f868-ace7ec6f26a9"
      },
      "source": [
        "df"
      ],
      "execution_count": 50,
      "outputs": [
        {
          "output_type": "execute_result",
          "data": {
            "text/html": [
              "<div>\n",
              "<style scoped>\n",
              "    .dataframe tbody tr th:only-of-type {\n",
              "        vertical-align: middle;\n",
              "    }\n",
              "\n",
              "    .dataframe tbody tr th {\n",
              "        vertical-align: top;\n",
              "    }\n",
              "\n",
              "    .dataframe thead th {\n",
              "        text-align: right;\n",
              "    }\n",
              "</style>\n",
              "<table border=\"1\" class=\"dataframe\">\n",
              "  <thead>\n",
              "    <tr style=\"text-align: right;\">\n",
              "      <th></th>\n",
              "      <th>id</th>\n",
              "      <th>text</th>\n",
              "      <th>target</th>\n",
              "    </tr>\n",
              "  </thead>\n",
              "  <tbody>\n",
              "    <tr>\n",
              "      <th>0</th>\n",
              "      <td>Unknown Speaker  1:27</td>\n",
              "      <td>pushing forward</td>\n",
              "      <td>1</td>\n",
              "    </tr>\n",
              "    <tr>\n",
              "      <th>1</th>\n",
              "      <td>Unknown Speaker  1:32</td>\n",
              "      <td>checking seems side clear coming wide going ta...</td>\n",
              "      <td>1</td>\n",
              "    </tr>\n",
              "    <tr>\n",
              "      <th>2</th>\n",
              "      <td>Unknown Speaker  1:45</td>\n",
              "      <td>crossing seeing pedestrians walking towards gi...</td>\n",
              "      <td>1</td>\n",
              "    </tr>\n",
              "    <tr>\n",
              "      <th>3</th>\n",
              "      <td>Unknown Speaker  2:09</td>\n",
              "      <td>going turning left already sort keeping bit sp...</td>\n",
              "      <td>1</td>\n",
              "    </tr>\n",
              "    <tr>\n",
              "      <th>4</th>\n",
              "      <td>Unknown Speaker  2:27</td>\n",
              "      <td>obviously number different styles driving like...</td>\n",
              "      <td>1</td>\n",
              "    </tr>\n",
              "    <tr>\n",
              "      <th>...</th>\n",
              "      <td>...</td>\n",
              "      <td>...</td>\n",
              "      <td>...</td>\n",
              "    </tr>\n",
              "    <tr>\n",
              "      <th>80</th>\n",
              "      <td>Unknown Speaker  50:13</td>\n",
              "      <td>plenty space car behind react</td>\n",
              "      <td>1</td>\n",
              "    </tr>\n",
              "    <tr>\n",
              "      <th>81</th>\n",
              "      <td>Unknown Speaker  50:27</td>\n",
              "      <td>one primary schools around tim berners lee went</td>\n",
              "      <td>1</td>\n",
              "    </tr>\n",
              "    <tr>\n",
              "      <th>82</th>\n",
              "      <td>Unknown Speaker  50:42</td>\n",
              "      <td>come give space car apart 20 mile hour zone 20</td>\n",
              "      <td>1</td>\n",
              "    </tr>\n",
              "    <tr>\n",
              "      <th>83</th>\n",
              "      <td>Unknown Speaker  50:49</td>\n",
              "      <td>love 30 trying keep legal see lights actually ...</td>\n",
              "      <td>1</td>\n",
              "    </tr>\n",
              "    <tr>\n",
              "      <th>84</th>\n",
              "      <td>Unknown Speaker  51:25</td>\n",
              "      <td>gonna contend red van little bit moving faster...</td>\n",
              "      <td>1</td>\n",
              "    </tr>\n",
              "  </tbody>\n",
              "</table>\n",
              "<p>85 rows × 3 columns</p>\n",
              "</div>"
            ],
            "text/plain": [
              "                          id  ... target\n",
              "0    Unknown Speaker  1:27    ...      1\n",
              "1    Unknown Speaker  1:32    ...      1\n",
              "2    Unknown Speaker  1:45    ...      1\n",
              "3    Unknown Speaker  2:09    ...      1\n",
              "4    Unknown Speaker  2:27    ...      1\n",
              "..                       ...  ...    ...\n",
              "80  Unknown Speaker  50:13    ...      1\n",
              "81  Unknown Speaker  50:27    ...      1\n",
              "82  Unknown Speaker  50:42    ...      1\n",
              "83  Unknown Speaker  50:49    ...      1\n",
              "84  Unknown Speaker  51:25    ...      1\n",
              "\n",
              "[85 rows x 3 columns]"
            ]
          },
          "metadata": {},
          "execution_count": 50
        }
      ]
    },
    {
      "cell_type": "code",
      "metadata": {
        "id": "3bq2UrMmDcwa"
      },
      "source": [
        "df.to_csv('res.csv',index = False)"
      ],
      "execution_count": 51,
      "outputs": []
    },
    {
      "cell_type": "code",
      "metadata": {
        "id": "kYBTVljnD0r_"
      },
      "source": [
        ""
      ],
      "execution_count": null,
      "outputs": []
    }
  ]
}