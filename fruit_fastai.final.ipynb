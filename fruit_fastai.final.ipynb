{
  "nbformat": 4,
  "nbformat_minor": 0,
  "metadata": {
    "colab": {
      "name": "Fruit fastai",
      "provenance": [],
      "collapsed_sections": []
    },
    "kernelspec": {
      "name": "python3",
      "display_name": "Python 3"
    },
    "accelerator": "GPU"
  },
  "cells": [
    {
      "cell_type": "code",
      "metadata": {
        "id": "P6ucN9FPTFhg"
      },
      "source": [
        "from fastai import *\n",
        "from fastai.tabular import *\n",
        "seed =23\n",
        "def random_seed(seed_value):\n",
        "  import random \n",
        "  random.seed(seed_value) # Python\n",
        "  import numpy as np\n",
        "  np.random.seed(seed_value) # cpu vars\n",
        "  import torch\n",
        "  torch.manual_seed(seed_value) # cpu  vars\n",
        "  if torch.cuda.is_available(): \n",
        "    torch.cuda.manual_seed(seed_value)\n",
        "    torch.cuda.manual_seed_all(seed_value) # gpu vars\n",
        "    torch.backends.cudnn.deterministic = True  #needed\n",
        "    torch.backends.cudnn.benchmark = False"
      ],
      "execution_count": 1,
      "outputs": []
    },
    {
      "cell_type": "code",
      "metadata": {
        "id": "ARQ1XG5PTial"
      },
      "source": [
        "data = pd.read_csv('Bro. Samuel.csv')\n",
        "data.drop('number',axis = 1,inplace = True)"
      ],
      "execution_count": 2,
      "outputs": []
    },
    {
      "cell_type": "code",
      "metadata": {
        "id": "SQlIqRfvTimw",
        "colab": {
          "base_uri": "https://localhost:8080/",
          "height": 173
        },
        "outputId": "9bdf8862-c0b6-4bb4-f904-361c4b442fef"
      },
      "source": [
        "random_seed(3)\n",
        "data.head(4)"
      ],
      "execution_count": 3,
      "outputs": [
        {
          "output_type": "execute_result",
          "data": {
            "text/html": [
              "<div>\n",
              "<style scoped>\n",
              "    .dataframe tbody tr th:only-of-type {\n",
              "        vertical-align: middle;\n",
              "    }\n",
              "\n",
              "    .dataframe tbody tr th {\n",
              "        vertical-align: top;\n",
              "    }\n",
              "\n",
              "    .dataframe thead th {\n",
              "        text-align: right;\n",
              "    }\n",
              "</style>\n",
              "<table border=\"1\" class=\"dataframe\">\n",
              "  <thead>\n",
              "    <tr style=\"text-align: right;\">\n",
              "      <th></th>\n",
              "      <th>Mass</th>\n",
              "      <th>Length</th>\n",
              "      <th>Breadth</th>\n",
              "      <th>Thickness</th>\n",
              "      <th>Dg</th>\n",
              "      <th>phi</th>\n",
              "      <th>S</th>\n",
              "      <th>Ap</th>\n",
              "      <th>Vellip</th>\n",
              "    </tr>\n",
              "  </thead>\n",
              "  <tbody>\n",
              "    <tr>\n",
              "      <th>0</th>\n",
              "      <td>1.50</td>\n",
              "      <td>25.9</td>\n",
              "      <td>14.4</td>\n",
              "      <td>9.0</td>\n",
              "      <td>14.932</td>\n",
              "      <td>0.577</td>\n",
              "      <td>700.491</td>\n",
              "      <td>175.123</td>\n",
              "      <td>1757.533</td>\n",
              "    </tr>\n",
              "    <tr>\n",
              "      <th>1</th>\n",
              "      <td>1.46</td>\n",
              "      <td>24.6</td>\n",
              "      <td>14.7</td>\n",
              "      <td>9.2</td>\n",
              "      <td>14.888</td>\n",
              "      <td>0.605</td>\n",
              "      <td>696.352</td>\n",
              "      <td>174.088</td>\n",
              "      <td>1741.963</td>\n",
              "    </tr>\n",
              "    <tr>\n",
              "      <th>2</th>\n",
              "      <td>1.30</td>\n",
              "      <td>23.5</td>\n",
              "      <td>14.4</td>\n",
              "      <td>9.9</td>\n",
              "      <td>14.923</td>\n",
              "      <td>0.635</td>\n",
              "      <td>699.590</td>\n",
              "      <td>174.897</td>\n",
              "      <td>1754.140</td>\n",
              "    </tr>\n",
              "    <tr>\n",
              "      <th>3</th>\n",
              "      <td>1.41</td>\n",
              "      <td>24.3</td>\n",
              "      <td>14.4</td>\n",
              "      <td>9.0</td>\n",
              "      <td>14.619</td>\n",
              "      <td>0.602</td>\n",
              "      <td>671.365</td>\n",
              "      <td>167.841</td>\n",
              "      <td>1648.959</td>\n",
              "    </tr>\n",
              "  </tbody>\n",
              "</table>\n",
              "</div>"
            ],
            "text/plain": [
              "   Mass  Length  Breadth  Thickness       Dg    phi        S       Ap    Vellip\n",
              "0  1.50    25.9     14.4         9.0  14.932  0.577  700.491  175.123  1757.533\n",
              "1  1.46    24.6     14.7         9.2  14.888  0.605  696.352  174.088  1741.963\n",
              "2  1.30    23.5     14.4         9.9  14.923  0.635  699.590  174.897  1754.140\n",
              "3  1.41    24.3     14.4         9.0  14.619  0.602  671.365  167.841  1648.959"
            ]
          },
          "metadata": {
            "tags": []
          },
          "execution_count": 3
        }
      ]
    },
    {
      "cell_type": "code",
      "metadata": {
        "id": "stluHtQd3wVW"
      },
      "source": [
        "from sklearn.decomposition import PCA\n",
        "pca = PCA()\n",
        "train = pca.fit_transform(data.drop('Mass',axis = 1))\n"
      ],
      "execution_count": 4,
      "outputs": []
    },
    {
      "cell_type": "code",
      "metadata": {
        "colab": {
          "base_uri": "https://localhost:8080/"
        },
        "id": "_kgKhODb4AbC",
        "outputId": "d617605e-a53b-40f6-a854-392abd38ee8a"
      },
      "source": [
        "train"
      ],
      "execution_count": 5,
      "outputs": [
        {
          "output_type": "execute_result",
          "data": {
            "text/plain": [
              "array([[-7.817380e+00, -1.071341e+00, -1.057145e+00, -1.637663e-01,  7.131382e-03, -2.507901e-03,  6.393909e-04,\n",
              "         2.173778e-04],\n",
              "       [ 8.329273e+00, -1.167731e+00,  2.403249e-01, -3.705140e-01, -1.018704e-02, -2.193073e-03, -6.466232e-04,\n",
              "        -3.117500e-06],\n",
              "       [-4.293949e+00, -1.107988e+00,  1.469570e+00,  2.213003e-01, -9.917292e-03, -3.333081e-03,  1.218484e-03,\n",
              "        -4.474884e-04],\n",
              "       [ 1.048349e+02, -1.440560e+00,  2.238898e-01, -2.909474e-01, -7.018265e-03,  5.673578e-04, -4.570329e-05,\n",
              "        -2.431208e-04],\n",
              "       ...,\n",
              "       [-8.547492e+01, -4.832632e-01,  3.807158e-01,  2.658586e-01, -2.398320e-02, -3.152671e-03, -4.362489e-05,\n",
              "        -4.599265e-04],\n",
              "       [ 2.331686e+02, -1.072130e+00,  9.488503e-01,  1.545908e-01, -1.836257e-02,  5.551711e-03,  7.475913e-04,\n",
              "        -4.513460e-04],\n",
              "       [-1.227700e+02, -9.180247e-02, -1.640211e+00,  1.268342e+00,  2.227053e-02, -4.009298e-03,  1.692725e-03,\n",
              "        -4.657239e-04],\n",
              "       [ 2.316226e+02, -1.072201e+00, -3.330500e-01, -7.312513e-01,  3.213195e-02,  3.605831e-03, -8.422626e-04,\n",
              "         4.583312e-04]])"
            ]
          },
          "metadata": {
            "tags": []
          },
          "execution_count": 5
        }
      ]
    },
    {
      "cell_type": "code",
      "metadata": {
        "id": "fb-BDAAT-3vU",
        "colab": {
          "base_uri": "https://localhost:8080/",
          "height": 286
        },
        "outputId": "02573a70-c486-4324-8ba8-ee8b27479942"
      },
      "source": [
        "import seaborn as sns\n",
        "sns.heatmap(pd.DataFrame(train).corr())"
      ],
      "execution_count": 6,
      "outputs": [
        {
          "output_type": "execute_result",
          "data": {
            "text/plain": [
              "<matplotlib.axes._subplots.AxesSubplot at 0x7f6a58657c10>"
            ]
          },
          "metadata": {
            "tags": []
          },
          "execution_count": 6
        },
        {
          "output_type": "display_data",
          "data": {
            "image/png": "[encoded data removed]",
            "text/plain": [
              "<Figure size 432x288 with 2 Axes>"
            ]
          },
          "metadata": {
            "tags": [],
            "needs_background": "light"
          }
        }
      ]
    },
    {
      "cell_type": "code",
      "metadata": {
        "id": "BESOBi-t4dym"
      },
      "source": [
        "train1 = pd.DataFrame(train)"
      ],
      "execution_count": 7,
      "outputs": []
    },
    {
      "cell_type": "code",
      "metadata": {
        "id": "ArBDT_zd4mvM"
      },
      "source": [
        "train = pd.concat([train1,data['Mass']],axis = 1)\n"
      ],
      "execution_count": 8,
      "outputs": []
    },
    {
      "cell_type": "code",
      "metadata": {
        "id": "yvuiTrt6Ti1u"
      },
      "source": [
        "dep_var = 'Mass'\n",
        "cont_names = train.columns#'\n",
        "cat_names = [\t]# \n",
        "procs = [FillMissing, Categorify, Normalize]"
      ],
      "execution_count": 9,
      "outputs": []
    },
    {
      "cell_type": "code",
      "metadata": {
        "id": "cGlcdT3eT06C"
      },
      "source": [
        "#test = TabularList.from_df(test, cat_names = cat_names, cont_names=cont_names, procs=procs)"
      ],
      "execution_count": 10,
      "outputs": []
    },
    {
      "cell_type": "code",
      "metadata": {
        "id": "fJ5KFxczT1QX"
      },
      "source": [
        "#data = (TabularList.from_df(train,path=\"\", cat_names = cat_names,cont_names = cont_names,procs =procs).split_by_rand_pct(valid_pct = 0.3, seed = 42).label_from_df(cols=dep_var).add_test(test,label=0).databunch(bs =16))\n",
        "data = (TabularList.from_df(train,path=\"\", cat_names = cat_names,cont_names = cont_names,procs =procs).split_by_rand_pct(valid_pct = 0.3, seed = 42).label_from_df(cols=dep_var).databunch(bs =16))"
      ],
      "execution_count": 11,
      "outputs": []
    },
    {
      "cell_type": "code",
      "metadata": {
        "id": "nFth7Lm_Tt5w",
        "colab": {
          "base_uri": "https://localhost:8080/",
          "height": 204
        },
        "outputId": "ddd6f068-a109-4e19-a82d-46acd966de83"
      },
      "source": [
        "data.show_batch(rows=5)"
      ],
      "execution_count": 12,
      "outputs": [
        {
          "output_type": "display_data",
          "data": {
            "text/html": [
              "<table border=\"1\" class=\"dataframe\">\n",
              "  <thead>\n",
              "    <tr style=\"text-align: right;\">\n",
              "      <th>0</th>\n",
              "      <th>1</th>\n",
              "      <th>2</th>\n",
              "      <th>3</th>\n",
              "      <th>4</th>\n",
              "      <th>5</th>\n",
              "      <th>6</th>\n",
              "      <th>7</th>\n",
              "      <th>Mass</th>\n",
              "      <th>target</th>\n",
              "    </tr>\n",
              "  </thead>\n",
              "  <tbody>\n",
              "    <tr>\n",
              "      <td>0.9354</td>\n",
              "      <td>-0.2602</td>\n",
              "      <td>0.8964</td>\n",
              "      <td>-0.6944</td>\n",
              "      <td>-0.0728</td>\n",
              "      <td>0.5069</td>\n",
              "      <td>0.4251</td>\n",
              "      <td>-0.7829</td>\n",
              "      <td>0.5733</td>\n",
              "      <td>1.5</td>\n",
              "    </tr>\n",
              "    <tr>\n",
              "      <td>-0.4601</td>\n",
              "      <td>-0.0901</td>\n",
              "      <td>-1.7171</td>\n",
              "      <td>1.6292</td>\n",
              "      <td>0.5593</td>\n",
              "      <td>-0.6775</td>\n",
              "      <td>1.4246</td>\n",
              "      <td>-0.7513</td>\n",
              "      <td>0.0994</td>\n",
              "      <td>1.42</td>\n",
              "    </tr>\n",
              "    <tr>\n",
              "      <td>1.1831</td>\n",
              "      <td>-0.1881</td>\n",
              "      <td>0.7885</td>\n",
              "      <td>-1.5678</td>\n",
              "      <td>0.9141</td>\n",
              "      <td>0.6022</td>\n",
              "      <td>-0.2164</td>\n",
              "      <td>-0.8724</td>\n",
              "      <td>-0.3744</td>\n",
              "      <td>1.34</td>\n",
              "    </tr>\n",
              "    <tr>\n",
              "      <td>0.0521</td>\n",
              "      <td>-0.2580</td>\n",
              "      <td>-1.1330</td>\n",
              "      <td>-0.3284</td>\n",
              "      <td>0.3204</td>\n",
              "      <td>-0.3224</td>\n",
              "      <td>-0.1995</td>\n",
              "      <td>-1.6808</td>\n",
              "      <td>-0.8482</td>\n",
              "      <td>1.26</td>\n",
              "    </tr>\n",
              "    <tr>\n",
              "      <td>0.0076</td>\n",
              "      <td>-0.2488</td>\n",
              "      <td>-1.3319</td>\n",
              "      <td>1.9693</td>\n",
              "      <td>0.7965</td>\n",
              "      <td>-0.7353</td>\n",
              "      <td>0.1704</td>\n",
              "      <td>-0.6870</td>\n",
              "      <td>-0.0783</td>\n",
              "      <td>1.39</td>\n",
              "    </tr>\n",
              "  </tbody>\n",
              "</table>"
            ],
            "text/plain": [
              "<IPython.core.display.HTML object>"
            ]
          },
          "metadata": {
            "tags": []
          }
        }
      ]
    },
    {
      "cell_type": "code",
      "metadata": {
        "id": "yjSRQv9xUAGo"
      },
      "source": [
        "random_seed(3)\n",
        "learn = tabular_learner(data,layers=[20,76,19], ps=[0.1,0.01,0.01], emb_drop=0.04, opt_func=optim.Adam, metrics = rmse)"
      ],
      "execution_count": 13,
      "outputs": []
    },
    {
      "cell_type": "code",
      "metadata": {
        "id": "A8NaH1ybUAYK",
        "colab": {
          "base_uri": "https://localhost:8080/",
          "height": 529
        },
        "outputId": "ac755d8b-b9cc-482f-d3a6-f473e720ae96"
      },
      "source": [
        "random_seed(3)\n",
        "learn.lr_find()\n",
        "learn.recorder.plot(Suggestion = True)"
      ],
      "execution_count": 14,
      "outputs": [
        {
          "output_type": "display_data",
          "data": {
            "text/html": [
              "\n",
              "    <div>\n",
              "        <style>\n",
              "            /* Turns off some styling */\n",
              "            progress {\n",
              "                /* gets rid of default border in Firefox and Opera. */\n",
              "                border: none;\n",
              "                /* Needs to be in here for Safari polyfill so background images work as expected. */\n",
              "                background-size: auto;\n",
              "            }\n",
              "            .progress-bar-interrupted, .progress-bar-interrupted::-webkit-progress-bar {\n",
              "                background: #F44336;\n",
              "            }\n",
              "        </style>\n",
              "      <progress value='5' class='' max='6' style='width:300px; height:20px; vertical-align: middle;'></progress>\n",
              "      83.33% [5/6 00:01<00:00]\n",
              "    </div>\n",
              "    \n",
              "<table border=\"1\" class=\"dataframe\">\n",
              "  <thead>\n",
              "    <tr style=\"text-align: left;\">\n",
              "      <th>epoch</th>\n",
              "      <th>train_loss</th>\n",
              "      <th>valid_loss</th>\n",
              "      <th>root_mean_squared_error</th>\n",
              "      <th>time</th>\n",
              "    </tr>\n",
              "  </thead>\n",
              "  <tbody>\n",
              "    <tr>\n",
              "      <td>0</td>\n",
              "      <td>2.455103</td>\n",
              "      <td>#na#</td>\n",
              "      <td>00:00</td>\n",
              "    </tr>\n",
              "    <tr>\n",
              "      <td>1</td>\n",
              "      <td>2.452657</td>\n",
              "      <td>#na#</td>\n",
              "      <td>00:00</td>\n",
              "    </tr>\n",
              "    <tr>\n",
              "      <td>2</td>\n",
              "      <td>2.431150</td>\n",
              "      <td>#na#</td>\n",
              "      <td>00:00</td>\n",
              "    </tr>\n",
              "    <tr>\n",
              "      <td>3</td>\n",
              "      <td>2.245774</td>\n",
              "      <td>#na#</td>\n",
              "      <td>00:00</td>\n",
              "    </tr>\n",
              "    <tr>\n",
              "      <td>4</td>\n",
              "      <td>1.637674</td>\n",
              "      <td>#na#</td>\n",
              "      <td>00:00</td>\n",
              "    </tr>\n",
              "  </tbody>\n",
              "</table><p>\n",
              "\n",
              "    <div>\n",
              "        <style>\n",
              "            /* Turns off some styling */\n",
              "            progress {\n",
              "                /* gets rid of default border in Firefox and Opera. */\n",
              "                border: none;\n",
              "                /* Needs to be in here for Safari polyfill so background images work as expected. */\n",
              "                background-size: auto;\n",
              "            }\n",
              "            .progress-bar-interrupted, .progress-bar-interrupted::-webkit-progress-bar {\n",
              "                background: #F44336;\n",
              "            }\n",
              "        </style>\n",
              "      <progress value='5' class='' max='17' style='width:300px; height:20px; vertical-align: middle;'></progress>\n",
              "      29.41% [5/17 00:00<00:00 1.5640]\n",
              "    </div>\n",
              "    "
            ],
            "text/plain": [
              "<IPython.core.display.HTML object>"
            ]
          },
          "metadata": {
            "tags": []
          }
        },
        {
          "output_type": "stream",
          "text": [
            "LR Finder is complete, type {learner_name}.recorder.plot() to see the graph.\n"
          ],
          "name": "stdout"
        },
        {
          "output_type": "display_data",
          "data": {
            "image/png": "[encoded data removed]",
            "text/plain": [
              "<Figure size 432x288 with 1 Axes>"
            ]
          },
          "metadata": {
            "tags": [],
            "needs_background": "light"
          }
        }
      ]
    },
    {
      "cell_type": "code",
      "metadata": {
        "id": "VxqD2jo_UILY",
        "colab": {
          "base_uri": "https://localhost:8080/",
          "height": 979
        },
        "outputId": "b48b9fff-bf6a-40f6-a812-13803775f171"
      },
      "source": [
        "random_seed(3)\n",
        "learn.fit_one_cycle(30, 0.1, moms=(0.8,0.7),wd=0.01,div_factor=20)"
      ],
      "execution_count": 15,
      "outputs": [
        {
          "output_type": "display_data",
          "data": {
            "text/html": [
              "<table border=\"1\" class=\"dataframe\">\n",
              "  <thead>\n",
              "    <tr style=\"text-align: left;\">\n",
              "      <th>epoch</th>\n",
              "      <th>train_loss</th>\n",
              "      <th>valid_loss</th>\n",
              "      <th>root_mean_squared_error</th>\n",
              "      <th>time</th>\n",
              "    </tr>\n",
              "  </thead>\n",
              "  <tbody>\n",
              "    <tr>\n",
              "      <td>0</td>\n",
              "      <td>1.912393</td>\n",
              "      <td>1.504631</td>\n",
              "      <td>1.226425</td>\n",
              "      <td>00:00</td>\n",
              "    </tr>\n",
              "    <tr>\n",
              "      <td>1</td>\n",
              "      <td>1.189124</td>\n",
              "      <td>0.099504</td>\n",
              "      <td>0.310748</td>\n",
              "      <td>00:00</td>\n",
              "    </tr>\n",
              "    <tr>\n",
              "      <td>2</td>\n",
              "      <td>0.696814</td>\n",
              "      <td>0.016670</td>\n",
              "      <td>0.125889</td>\n",
              "      <td>00:00</td>\n",
              "    </tr>\n",
              "    <tr>\n",
              "      <td>3</td>\n",
              "      <td>0.437162</td>\n",
              "      <td>0.008427</td>\n",
              "      <td>0.090384</td>\n",
              "      <td>00:00</td>\n",
              "    </tr>\n",
              "    <tr>\n",
              "      <td>4</td>\n",
              "      <td>0.291505</td>\n",
              "      <td>0.013778</td>\n",
              "      <td>0.116894</td>\n",
              "      <td>00:00</td>\n",
              "    </tr>\n",
              "    <tr>\n",
              "      <td>5</td>\n",
              "      <td>0.203656</td>\n",
              "      <td>0.006014</td>\n",
              "      <td>0.074283</td>\n",
              "      <td>00:00</td>\n",
              "    </tr>\n",
              "    <tr>\n",
              "      <td>6</td>\n",
              "      <td>0.145349</td>\n",
              "      <td>0.001988</td>\n",
              "      <td>0.043772</td>\n",
              "      <td>00:00</td>\n",
              "    </tr>\n",
              "    <tr>\n",
              "      <td>7</td>\n",
              "      <td>0.105910</td>\n",
              "      <td>0.008825</td>\n",
              "      <td>0.093684</td>\n",
              "      <td>00:00</td>\n",
              "    </tr>\n",
              "    <tr>\n",
              "      <td>8</td>\n",
              "      <td>0.079699</td>\n",
              "      <td>0.002997</td>\n",
              "      <td>0.054349</td>\n",
              "      <td>00:00</td>\n",
              "    </tr>\n",
              "    <tr>\n",
              "      <td>9</td>\n",
              "      <td>0.061491</td>\n",
              "      <td>0.015877</td>\n",
              "      <td>0.125594</td>\n",
              "      <td>00:00</td>\n",
              "    </tr>\n",
              "    <tr>\n",
              "      <td>10</td>\n",
              "      <td>0.047728</td>\n",
              "      <td>0.000942</td>\n",
              "      <td>0.030063</td>\n",
              "      <td>00:00</td>\n",
              "    </tr>\n",
              "    <tr>\n",
              "      <td>11</td>\n",
              "      <td>0.037794</td>\n",
              "      <td>0.001146</td>\n",
              "      <td>0.033646</td>\n",
              "      <td>00:00</td>\n",
              "    </tr>\n",
              "    <tr>\n",
              "      <td>12</td>\n",
              "      <td>0.030288</td>\n",
              "      <td>0.000607</td>\n",
              "      <td>0.024538</td>\n",
              "      <td>00:00</td>\n",
              "    </tr>\n",
              "    <tr>\n",
              "      <td>13</td>\n",
              "      <td>0.025573</td>\n",
              "      <td>0.003923</td>\n",
              "      <td>0.062000</td>\n",
              "      <td>00:00</td>\n",
              "    </tr>\n",
              "    <tr>\n",
              "      <td>14</td>\n",
              "      <td>0.024267</td>\n",
              "      <td>0.003217</td>\n",
              "      <td>0.056119</td>\n",
              "      <td>00:00</td>\n",
              "    </tr>\n",
              "    <tr>\n",
              "      <td>15</td>\n",
              "      <td>0.022483</td>\n",
              "      <td>0.012885</td>\n",
              "      <td>0.113208</td>\n",
              "      <td>00:00</td>\n",
              "    </tr>\n",
              "    <tr>\n",
              "      <td>16</td>\n",
              "      <td>0.019885</td>\n",
              "      <td>0.002702</td>\n",
              "      <td>0.051585</td>\n",
              "      <td>00:00</td>\n",
              "    </tr>\n",
              "    <tr>\n",
              "      <td>17</td>\n",
              "      <td>0.016479</td>\n",
              "      <td>0.005390</td>\n",
              "      <td>0.073351</td>\n",
              "      <td>00:00</td>\n",
              "    </tr>\n",
              "    <tr>\n",
              "      <td>18</td>\n",
              "      <td>0.014155</td>\n",
              "      <td>0.005274</td>\n",
              "      <td>0.072023</td>\n",
              "      <td>00:00</td>\n",
              "    </tr>\n",
              "    <tr>\n",
              "      <td>19</td>\n",
              "      <td>0.012620</td>\n",
              "      <td>0.002008</td>\n",
              "      <td>0.044024</td>\n",
              "      <td>00:00</td>\n",
              "    </tr>\n",
              "    <tr>\n",
              "      <td>20</td>\n",
              "      <td>0.011387</td>\n",
              "      <td>0.000519</td>\n",
              "      <td>0.022570</td>\n",
              "      <td>00:00</td>\n",
              "    </tr>\n",
              "    <tr>\n",
              "      <td>21</td>\n",
              "      <td>0.010871</td>\n",
              "      <td>0.002858</td>\n",
              "      <td>0.053160</td>\n",
              "      <td>00:00</td>\n",
              "    </tr>\n",
              "    <tr>\n",
              "      <td>22</td>\n",
              "      <td>0.010581</td>\n",
              "      <td>0.003655</td>\n",
              "      <td>0.060288</td>\n",
              "      <td>00:00</td>\n",
              "    </tr>\n",
              "    <tr>\n",
              "      <td>23</td>\n",
              "      <td>0.009389</td>\n",
              "      <td>0.000408</td>\n",
              "      <td>0.019991</td>\n",
              "      <td>00:00</td>\n",
              "    </tr>\n",
              "    <tr>\n",
              "      <td>24</td>\n",
              "      <td>0.008116</td>\n",
              "      <td>0.001577</td>\n",
              "      <td>0.039451</td>\n",
              "      <td>00:00</td>\n",
              "    </tr>\n",
              "    <tr>\n",
              "      <td>25</td>\n",
              "      <td>0.007448</td>\n",
              "      <td>0.000654</td>\n",
              "      <td>0.025288</td>\n",
              "      <td>00:00</td>\n",
              "    </tr>\n",
              "    <tr>\n",
              "      <td>26</td>\n",
              "      <td>0.006403</td>\n",
              "      <td>0.000690</td>\n",
              "      <td>0.026080</td>\n",
              "      <td>00:00</td>\n",
              "    </tr>\n",
              "    <tr>\n",
              "      <td>27</td>\n",
              "      <td>0.005849</td>\n",
              "      <td>0.000620</td>\n",
              "      <td>0.024619</td>\n",
              "      <td>00:00</td>\n",
              "    </tr>\n",
              "    <tr>\n",
              "      <td>28</td>\n",
              "      <td>0.006161</td>\n",
              "      <td>0.000755</td>\n",
              "      <td>0.027115</td>\n",
              "      <td>00:00</td>\n",
              "    </tr>\n",
              "    <tr>\n",
              "      <td>29</td>\n",
              "      <td>0.005756</td>\n",
              "      <td>0.000379</td>\n",
              "      <td>0.019239</td>\n",
              "      <td>00:00</td>\n",
              "    </tr>\n",
              "  </tbody>\n",
              "</table>"
            ],
            "text/plain": [
              "<IPython.core.display.HTML object>"
            ]
          },
          "metadata": {
            "tags": []
          }
        }
      ]
    },
    {
      "cell_type": "code",
      "metadata": {
        "id": "hviU1NfPBzBE",
        "colab": {
          "base_uri": "https://localhost:8080/",
          "height": 34
        },
        "outputId": "a3599259-9390-4661-b98d-6a5ff209620d"
      },
      "source": [
        "from sklearn.metrics import mean_squared_error\n",
        "pred_val_1 = learn.get_preds(DatasetType.Valid)\n",
        "print(mean_squared_error(pred_val_1[1], pred_val_1[0])**0.5)\n",
        "\n",
        "#pred_test, label_test = learn.get_preds(DatasetType.Test)\n",
        "#pred_test_1 = pred_test"
      ],
      "execution_count": 16,
      "outputs": [
        {
          "output_type": "display_data",
          "data": {
            "text/html": [
              ""
            ],
            "text/plain": [
              "<IPython.core.display.HTML object>"
            ]
          },
          "metadata": {
            "tags": []
          }
        },
        {
          "output_type": "stream",
          "text": [
            "0.01946354545519515\n"
          ],
          "name": "stdout"
        }
      ]
    },
    {
      "cell_type": "code",
      "metadata": {
        "colab": {
          "base_uri": "https://localhost:8080/"
        },
        "id": "wBroF3-EGTgl",
        "outputId": "52e120f5-bdc0-41ca-956a-d365dffb9ffe"
      },
      "source": [
        "r2_score(pred_val_1[1], pred_val_1[0])"
      ],
      "execution_count": 35,
      "outputs": [
        {
          "output_type": "execute_result",
          "data": {
            "text/plain": [
              "tensor(0.9539)"
            ]
          },
          "metadata": {
            "tags": []
          },
          "execution_count": 35
        }
      ]
    },
    {
      "cell_type": "code",
      "metadata": {
        "id": "GMuIYyYOBsdk"
      },
      "source": [
        "true = pd.DataFrame(pred_val_1[1].numpy())\n",
        "predicted = pd.DataFrame(pred_val_1[0].numpy())"
      ],
      "execution_count": 30,
      "outputs": []
    },
    {
      "cell_type": "code",
      "metadata": {
        "id": "cqf-aplHCWos"
      },
      "source": [
        "result = pd.concat([true,predicted],axis = 1)"
      ],
      "execution_count": 32,
      "outputs": []
    },
    {
      "cell_type": "code",
      "metadata": {
        "id": "twlzw0_fCuvK"
      },
      "source": [
        "result.to_csv(\"Fastai predications.csv\")"
      ],
      "execution_count": 34,
      "outputs": []
    },
    {
      "cell_type": "code",
      "metadata": {
        "id": "r1tFavd-DinH"
      },
      "source": [
        ""
      ],
      "execution_count": null,
      "outputs": []
    }
  ]
}